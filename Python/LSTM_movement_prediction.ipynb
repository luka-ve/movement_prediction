{
 "cells": [
  {
   "cell_type": "code",
   "execution_count": 1,
   "metadata": {},
   "outputs": [],
   "source": [
    "import glob\n",
    "import random\n",
    "import h5py\n",
    "import numpy as np\n",
    "import matplotlib.pyplot as plt\n",
    "import matplotlib as mpl\n",
    "\n",
    "from datetime import datetime\n",
    "import time\n",
    "import os\n",
    "\n",
    "import pprint\n",
    "\n",
    "import tensorflow as tf\n",
    "from tensorflow import keras\n",
    "from tensorflow.keras import layers, regularizers"
   ]
  },
  {
   "cell_type": "markdown",
   "metadata": {},
   "source": [
    "Check if GPUs are available"
   ]
  },
  {
   "cell_type": "code",
   "execution_count": 2,
   "metadata": {},
   "outputs": [
    {
     "name": "stdout",
     "output_type": "stream",
     "text": [
      "GPUs:  []\n"
     ]
    }
   ],
   "source": [
    "print(\"GPUs: \", tf.config.list_physical_devices('GPU'))"
   ]
  },
  {
   "cell_type": "markdown",
   "metadata": {},
   "source": [
    "Find data files recursively from root folder."
   ]
  },
  {
   "cell_type": "code",
   "execution_count": 3,
   "metadata": {},
   "outputs": [],
   "source": [
    "data_path = \"D:/Coding/Thesis/Data/STFT Output/**/*.h5\"\n",
    "data_files = glob.glob(data_path, recursive=True)"
   ]
  },
  {
   "cell_type": "code",
   "execution_count": 4,
   "metadata": {},
   "outputs": [],
   "source": [
    "config = {}\n",
    "\n",
    "config['model_folder'] = 'D:/Coding/Thesis/movement_prediction/Models/'\n",
    "\n",
    "config['EEG_window_length_in_ms'] = 30000"
   ]
  },
  {
   "cell_type": "markdown",
   "metadata": {},
   "source": [
    "Next, we configure the output layer of the LSTM:\n",
    "\n",
    "\n",
    "`delta_time_k` predicts the delta time to the next $k^{th}$ tap.\n",
    "\n",
    "`tap_count_times_p` predicts the *number of taps* within the next $p$ seconds."
   ]
  },
  {
   "cell_type": "code",
   "execution_count": 5,
   "metadata": {},
   "outputs": [],
   "source": [
    "config['delta_time_k'] = np.array([1, 2, 3, 4, 5, 6, 7, 8, 9, 10])\n",
    "config['tap_count_times_p'] = np.array([0.5, 1, 5, 10, 50, 100, 500])\n",
    "\n",
    "config['read_config_from_h5'] = True\n",
    "\n",
    "config['EEG_sampling_rate'] = 1000\n",
    "config['stft_stride'] = 128\n",
    "config['sampling_rate_after_stft'] = config['EEG_sampling_rate'] / config['stft_stride']\n",
    "config['sample_length_after_stft'] = 1000 / config['sampling_rate_after_stft']\n",
    "\n",
    "config['tap_count_times_in_samples'] = np.multiply(config['tap_count_times_p'], config['EEG_sampling_rate'])"
   ]
  },
  {
   "cell_type": "markdown",
   "metadata": {},
   "source": [
    "# Load data into memory\n",
    "\n",
    "Instead of loading data from the h5 file when we need it, we load all the data of a single participant into memory (because it fits and it's easier)"
   ]
  },
  {
   "cell_type": "code",
   "execution_count": 22,
   "metadata": {},
   "outputs": [
    {
     "name": "stdout",
     "output_type": "stream",
     "text": [
      "235\n",
      "Number of activity windows: 7\n",
      "[(64, 12300, 11), (64, 17318, 11), (64, 941, 11), (64, 802, 11), (64, 649, 11), (64, 649, 11), (64, 7450, 11)]\n",
      "[(1, 698), (1, 876), (1, 50), (1, 54), (1, 4), (1, 3), (1, 516)]\n"
     ]
    }
   ],
   "source": [
    "def load_data(h5_files):\n",
    "    EEG, taps = [], []\n",
    "    \n",
    "    # Makes sure that if a single file is passed in, it is put into a list\n",
    "    if type(h5_files) != 'list':\n",
    "        h5_files = [h5_files]\n",
    "    \n",
    "    for f in h5_files:\n",
    "        with h5py.File(f, 'r') as f_open:\n",
    "            if config['read_config_from_h5']:\n",
    "                    config['EEG_sampling_rate'] = f_open.attrs['original_sampling_rate']\n",
    "                    config['stft_stride'] = f_open.attrs['stft_hopsize']\n",
    "            \n",
    "            for session in list(f_open.keys()):\n",
    "                for activity_window in list(f_open[session].keys()):\n",
    "                    if activity_window.startswith('window_'):\n",
    "                        EEG.append(np.array(f_open[session][activity_window]['stft'], dtype='float32'))\n",
    "                        taps.append(np.array(f_open[session][activity_window]['taps']))\n",
    "    \n",
    "    ############# Inf found in data!\n",
    "    for i in EEG:\n",
    "        i[np.isinf(i)] = 0\n",
    "    \n",
    "    return (EEG, taps)\n",
    "\n",
    "stft, taps = load_data('D:\\\\Coding\\\\Thesis\\\\Data\\\\STFT Output\\\\DS99.h5')\n",
    "\n",
    "config['window_length_sftf_samples'] = np.ceil(30000 / 1000 * config['EEG_sampling_rate'] / config['stft_stride']).round().astype(np.int16)[0]\n",
    "\n",
    "print(config['window_length_sftf_samples'])\n",
    "print(f'Number of activity windows: {len(stft)}')\n",
    "print([x.shape for x in stft])\n",
    "print([y.shape for y in taps])"
   ]
  },
  {
   "cell_type": "markdown",
   "metadata": {},
   "source": [
    "Remove all activity windows that are shorter than 10 * a single window length.\n",
    "\n"
   ]
  },
  {
   "cell_type": "code",
   "execution_count": 126,
   "metadata": {},
   "outputs": [
    {
     "name": "stdout",
     "output_type": "stream",
     "text": [
      "NaN: 0\n",
      "Inf: 0\n",
      "[12300, 17318, 941, 802, 649, 649, 7450]\n",
      "[12081, 17099, 722, 583, 430, 430, 7231]\n"
     ]
    }
   ],
   "source": [
    "def normalize_input(_input):\n",
    "    # stft: A list of np arrays.\n",
    "    stft_cat = np.concatenate(_input, axis=1)\n",
    "    \n",
    "    print(f'NaN: {np.sum(np.isnan(stft_cat))}')\n",
    "    print(f'Inf: {np.sum(np.isinf(stft_cat))}')\n",
    "    \n",
    "    means = np.mean(stft_cat, axis=(0, 1), keepdims=True)\n",
    "    st_devs = np.std(stft_cat, axis=(0, 1), keepdims=True)\n",
    "    \n",
    "    out = [(i - means) - st_devs for i in _input]\n",
    "    \n",
    "    return out\n",
    "    \n",
    "\n",
    "stft_norm = normalize_input(stft)\n",
    "\n",
    "print([x.shape[1] for x in stft_norm])\n",
    "\n",
    "# Remove end of EEG activity, since there is no activity of interest\n",
    "\n",
    "seconds_to_remove = 28\n",
    "samples_to_remove = np.ceil(config['sampling_rate_after_stft'] * seconds_to_remove).astype(np.int)\n",
    "\n",
    "stft_norm = [x[:, :-samples_to_remove, :] for x in stft_norm]\n",
    "\n",
    "print([x.shape[1] for x in stft_norm])\n",
    "\n"
   ]
  },
  {
   "cell_type": "markdown",
   "metadata": {},
   "source": [
    "## The DataLoader class\n",
    "The DataLoader class contains and acts on participant data. It knows about the structure of the h5 files and can return random windows of EEG activity and taps, i.e., training data.\n",
    "\n",
    "The stft data in the h5 files is 3-dimensional:\n",
    "1. EEG channel\n",
    "2. EEG timeseries\n",
    "3. STFT frequency bins"
   ]
  },
  {
   "cell_type": "code",
   "execution_count": 8,
   "metadata": {},
   "outputs": [],
   "source": [
    "class DataLoader(keras.utils.Sequence):\n",
    "    def __init__(self, x, y, window_length=30000, batch_size=32, n_samples=2000, shuffle=True):\n",
    "        self.x = x\n",
    "        self.y = y\n",
    "        self.window_length = window_length\n",
    "        self.batch_size = batch_size\n",
    "        self.n_samples = n_samples\n",
    "        self.shuffle = shuffle\n",
    "        \n",
    "        self.subset_probabilities = self._get_subset_probabilites(x)\n",
    "        \n",
    "        self.x_n = len(x)\n",
    "    \n",
    "    \n",
    "    def __len__(self):\n",
    "        '''Number of unique samples divided by the batch size.'''\n",
    "        win_lengths = [win.shape[1] for win in self.x]\n",
    "        return sum(win_lengths) // self.batch_size\n",
    "    \n",
    "    \n",
    "    def __getitem__(self, index):\n",
    "        '''\n",
    "        Get a single item from a Sequence.\n",
    "        '''\n",
    "        \n",
    "        # For testing only\n",
    "        #return np.random.rand(self.batch_size, 938, 2048), np.random.rand(self.batch_size, 17)\n",
    "        \n",
    "        X = []\n",
    "        Y = []\n",
    "        \n",
    "        if self.shuffle:\n",
    "            for batch in range(self.batch_size):\n",
    "                # Pick random activity window\n",
    "                # Since subsets are of different length and contain different amounts of data,\n",
    "                # we need to adjust the probability of each subset being picked to its length.\n",
    "                subset_idx = np.random.choice(len(self.x), p = self.subset_probabilities)\n",
    "\n",
    "                # Pick random EEG window\n",
    "                window_length_in_samples = np.ceil(self.window_length / config['stft_stride']).astype(np.int)\n",
    "\n",
    "                window_end_idx = np.random.randint(window_length_in_samples, self.x[subset_idx].shape[1])       \n",
    "                window_idx_stft = np.arange(window_end_idx - window_length_in_samples, window_end_idx, dtype=np.int)        \n",
    "\n",
    "                input_data = np.array(self.x[subset_idx][:, window_idx_stft, :])\n",
    "                \n",
    "                # Move Time information to first axis\n",
    "                input_data = np.moveaxis(input_data, 1, 0)\n",
    "\n",
    "                # Reshape multidimensional features into a single dimension\n",
    "                input_data = np.reshape(input_data, (input_data.shape[0], np.prod(input_data.shape[1:])))\n",
    "                \n",
    "                \n",
    "                # Get appropriate tap info        \n",
    "                window_end_idx_tap_adjusted = np.ceil(np.array(window_end_idx) * config['sampling_rate_after_stft']).astype(np.int)\n",
    "\n",
    "                output_data = self.get_taps_in_window(self.y[subset_idx], window_end_idx_tap_adjusted)\n",
    "                \n",
    "                X.append(input_data)\n",
    "                Y.append(output_data)\n",
    "        else:\n",
    "            for batch in range(self.x[index].shape[1]):\n",
    "                subset_idx = index\n",
    "\n",
    "                window_length_in_samples = np.ceil(self.window_length / config['stft_stride']).astype(np.int)\n",
    "\n",
    "                window_end_idx = batch\n",
    "                \n",
    "                window_start = np.maximum(window_end_idx - window_length_in_samples, 0)\n",
    "                \n",
    "                window_idx_stft = np.arange(window_start, window_end_idx, dtype=np.int)       \n",
    "\n",
    "                input_data = np.array(self.x[subset_idx][:, window_idx_stft, :])\n",
    "                \n",
    "                # Pad input data to the left, to ensure equal input data size\n",
    "                n_pad_before = np.maximum(0, config['window_length_sftf_samples'] - input_data.shape[1])\n",
    "                pad_width = ((0, 0), (n_pad_before, 0), (0, 0))\n",
    "                \n",
    "                input_data = np.pad(input_data, pad_width, mode='constant', constant_values=0)\n",
    "                \n",
    "                # Move Time information to first axis\n",
    "                input_data = np.moveaxis(input_data, 1, 0)\n",
    "\n",
    "                # Reshape multidimensional features into a single dimension\n",
    "                input_data = np.reshape(input_data, (input_data.shape[0], np.prod(input_data.shape[1:])))\n",
    "                \n",
    "                \n",
    "                # Get appropriate tap info        \n",
    "                window_end_idx_tap_adjusted = np.ceil(np.array(window_end_idx) * config['sampling_rate_after_stft']).astype(np.int)\n",
    "\n",
    "                output_data = self.get_taps_in_window(self.y[subset_idx], window_end_idx_tap_adjusted)\n",
    "                \n",
    "                X.append(input_data)\n",
    "                Y.append(output_data)\n",
    "                \n",
    "        # Convert batch of samples into a 3D array for batches.\n",
    "        # The first dimension is the sample, second dimension the timesteps, third dimension the features\n",
    "        X = np.array(X)\n",
    "        Y = np.array(Y)\n",
    "        \n",
    "        # Warn if any NaN detected in data\n",
    "        if np.any(np.isnan(X)):\n",
    "            print('NaN values found in X!')\n",
    "        if np.any(np.isnan(Y)):\n",
    "            print('NaN values found in Y!')\n",
    "                \n",
    "        return X, Y\n",
    "    \n",
    "    def on_epoch_end(self):\n",
    "        pass\n",
    "    \n",
    "    def _get_subset_probabilites(self, x):\n",
    "        lengths = np.array([win.shape[1] for win in x])\n",
    "        \n",
    "        return lengths / sum(lengths)\n",
    "        \n",
    "    \n",
    "    def get_taps_in_window(self, taps, window_end):      \n",
    "        tap_deltas = self.get_delta_taps(taps, window_end)\n",
    "        \n",
    "        future_tap_n = self.get_n_future_taps(taps, window_end)\n",
    "        \n",
    "        result = np.concatenate((tap_deltas, future_tap_n))\n",
    "\n",
    "        # Convert values to log to avoid huge values\n",
    "        result = [np.log10(tap) if tap > 0 else tap for tap in result]\n",
    "        \n",
    "        threshold_ms = 1\n",
    "        result = np.maximum(result, np.log10(threshold_ms))\n",
    "        \n",
    "        return result\n",
    "    \n",
    "    \n",
    "    def get_delta_taps(self, taps, window_idx):\n",
    "        n_k = len(config['delta_time_k'])\n",
    "        \n",
    "        next_kth_taps = taps[taps > window_idx][:n_k]\n",
    "        \n",
    "        # Ensure that if not enough taps were found the array is padded with 0s.\n",
    "        # This only occurs \n",
    "        if len(next_kth_taps) < n_k:\n",
    "            next_kth_taps = np.concatenate((next_kth_taps, np.zeros(n_k - len(next_kth_taps))))\n",
    "        \n",
    "        tap_deltas = next_kth_taps - window_idx\n",
    "        \n",
    "        return tap_deltas\n",
    "            \n",
    "    \n",
    "    def get_n_future_taps(self, taps, window_idx):\n",
    "        n_future_taps = np.zeros(len(config['tap_count_times_in_samples']))\n",
    "        \n",
    "        for p_idx, p in enumerate(config['tap_count_times_in_samples']):\n",
    "            n_future_taps[p_idx] = len(\n",
    "                taps[\n",
    "                    (taps > window_idx) &\n",
    "                    (taps <= (window_idx + p))\n",
    "                ]\n",
    "            )\n",
    "        \n",
    "        return n_future_taps"
   ]
  },
  {
   "cell_type": "markdown",
   "metadata": {},
   "source": [
    "# Determining the in- and outputs of the LSTM\n",
    "Next, we check the sizes that are returned by our data generation function."
   ]
  },
  {
   "cell_type": "markdown",
   "metadata": {},
   "source": [
    "## Generate train, validation, and test set"
   ]
  },
  {
   "cell_type": "code",
   "execution_count": 145,
   "metadata": {},
   "outputs": [
    {
     "name": "stdout",
     "output_type": "stream",
     "text": [
      "Total taps: [(1, 698), (1, 876), (1, 50), (1, 54), (1, 4), (1, 3), (1, 516)]\n",
      "(373,)\n",
      "[(545,), (656,), (48,), (35,), (373,)]\n",
      "[(63,), (111,), (0,), (5,), (68,)]\n",
      "[(90,), (109,), (2,), (14,), (75,)]\n"
     ]
    }
   ],
   "source": [
    "stft_norm_train = []\n",
    "stft_norm_validation = []\n",
    "stft_norm_test = []\n",
    "\n",
    "taps_train, taps_validation, taps_test = [], [], []\n",
    "\n",
    "for i, x in enumerate(stft_norm):\n",
    "    x_len = x.shape[1]\n",
    "    \n",
    "    # Check if activity window length is too short.\n",
    "    # If so, add it to train set.\n",
    "    # If extremely short, discard window\n",
    "    if taps[i].shape[1] < 5:\n",
    "        continue\n",
    "    \n",
    "    train_idx = np.arange(0, (x_len//10 * 8))\n",
    "\n",
    "    \n",
    "    validation_idx = np.arange((x_len//10 * 8), (x_len//10 * 9))\n",
    "    test_idx = np.arange((x_len//10 * 9), x_len)\n",
    "    \n",
    "    stft_norm_train.append(x[:, train_idx, :])\n",
    "    stft_norm_validation.append(x[:, validation_idx, :])\n",
    "    stft_norm_test.append(x[:, test_idx, :])\n",
    "    \n",
    "    # Add taps\n",
    "    _taps = np.array(taps[i] / 128)\n",
    "    \n",
    "    #print(f\"Last train idx: {train_idx[-1]}\")\n",
    "    #print(f\"Last train idx * sampling rate redux: {train_idx[-1] * config['sampling_rate_after_stft']}\")\n",
    "    #print(f\"Taps: {_taps}\")\n",
    "\n",
    "    \n",
    "    _taps_train = _taps[np.logical_and(_taps > (train_idx[0]), \\\n",
    "                                       _taps < (train_idx[-1]))]\n",
    "    \n",
    "    _taps_vali = _taps[np.logical_and(_taps > (validation_idx[0]), \\\n",
    "                                      _taps < (validation_idx[-1]))]\n",
    "    \n",
    "    _taps_test = _taps[np.logical_and(_taps > (test_idx[0]), \\\n",
    "                                      _taps < (test_idx[-1]))]\n",
    "    \n",
    "    # Adjust tap timings to zero at beginning of sequence\n",
    "    _taps_train = _taps_train - (train_idx[0])\n",
    "    _taps_vali = _taps_vali - (validation_idx[0])\n",
    "    _taps_test = _taps_test - (test_idx[0])\n",
    "    \n",
    "    taps_train.append(_taps_train)\n",
    "    taps_validation.append(_taps_vali)\n",
    "    taps_test.append(_taps_test)\n",
    "    \n",
    "print(f'Total taps: {[y.shape for y in taps]}')\n",
    "\n",
    "\n",
    "#print(test_idx[-1] * config['sampling_rate_after_stft'])\n",
    "print(_taps[np.logical_and(_taps > (train_idx[0]), \\\n",
    "                           _taps < (train_idx[-1]))].shape)\n",
    "print([y.shape for y in taps_train])\n",
    "print([y.shape for y in taps_validation])\n",
    "print([y.shape for y in taps_test])\n",
    "\n",
    "\n",
    "#print(stft_norm[0].shape)\n",
    "#print(taps[0][0, -1] / 128)\n"
   ]
  },
  {
   "cell_type": "code",
   "execution_count": 144,
   "metadata": {},
   "outputs": [
    {
     "data": {
      "image/png": "[encoded data removed]",
      "text/plain": [
       "<Figure size 432x288 with 1 Axes>"
      ]
     },
     "metadata": {
      "needs_background": "light"
     },
     "output_type": "display_data"
    }
   ],
   "source": [
    "plt.plot(stft_norm_test[3][0, :, 0])\n",
    "plt.scatter(taps_test[3], np.zeros(taps_test[3].shape), color='orange')\n",
    "plt.show()"
   ]
  },
  {
   "cell_type": "markdown",
   "metadata": {},
   "source": [
    "## Create DataGenerators for train, validation, and test"
   ]
  },
  {
   "cell_type": "code",
   "execution_count": 10,
   "metadata": {},
   "outputs": [],
   "source": [
    "ppt_train = DataLoader(stft_norm_train, taps_train, batch_size=32)\n",
    "\n",
    "my_batch_x, my_batch_y = ppt_train[0]"
   ]
  },
  {
   "cell_type": "markdown",
   "metadata": {},
   "source": [
    "And do a sanity check on the content of the generated target data."
   ]
  },
  {
   "cell_type": "code",
   "execution_count": 11,
   "metadata": {},
   "outputs": [
    {
     "name": "stdout",
     "output_type": "stream",
     "text": [
      "Input layer dimensions: (32, 235, 704)\n",
      "Output layer dimensions: (32, 17)\n",
      "Output layer values: [3.65542659 3.69696764 3.7417817  3.77173443 3.81311375 3.847881\n",
      " 3.87765924 3.92417587 3.98353608 4.01249978 0.         0.\n",
      " 0.30103    0.95424251 1.17609126 1.17609126 1.17609126]\n"
     ]
    },
    {
     "data": {
      "image/png": "[encoded data removed]",
      "text/plain": [
       "<Figure size 432x288 with 1 Axes>"
      ]
     },
     "metadata": {
      "needs_background": "light"
     },
     "output_type": "display_data"
    }
   ],
   "source": [
    "np.set_printoptions(suppress=True)\n",
    "\n",
    "print(f'Input layer dimensions: {my_batch_x.shape}')\n",
    "print(f'Output layer dimensions: {my_batch_y.shape}')\n",
    "print(f'Output layer values: {my_batch_y[0]}')\n",
    "\n",
    "plt.plot(my_batch_x[0, :, 0].T)\n",
    "plt.title('Single eeg channel, freq band power over time')\n",
    "plt.show()"
   ]
  },
  {
   "cell_type": "markdown",
   "metadata": {},
   "source": [
    "## Input layer\n",
    "The ParticipantData class generates an input information that is $938 \\times 64 \\times 32$ in size. Since the first dimension is the temporal information, the LSTM's input layer has a size of $64 \\times 32 = 2048$ and takes a window of 938 samples at a time.\n",
    "\n",
    "This conversion from window length in ms to window length in STFT samples can be calculated by the following formula:\n",
    "\n",
    "$$\n",
    "\\bigl\\lceil\n",
    "\\frac{\\frac{\\text{T}}{1000} \\text{Fs}}\n",
    "{\\text{R}}\n",
    "\\bigr\\rceil\n",
    "$$\n",
    "\n",
    ", where $T$ is the window length in ms, $Fs$ is the original sampling rate, and $R$ is the hopsize of the STFT.\n",
    "\n",
    "## Output layer\n",
    "The ParticipantData class also generates training output. The output layer has a length of 17. It is composed of the $\\Delta t$ to the next $k$ steps in ms, as well as the number of taps within the next $p$ seconds. Which and how many $k$ and $p$ are predicted is defined in the config dictionary at the top of the script. The size of the output layer is defined as $|K| + |P|$"
   ]
  },
  {
   "cell_type": "markdown",
   "metadata": {},
   "source": [
    "# LSTM\n",
    "## Configure LSTM"
   ]
  },
  {
   "cell_type": "code",
   "execution_count": 13,
   "metadata": {},
   "outputs": [
    {
     "name": "stdout",
     "output_type": "stream",
     "text": [
      "Model: \"sequential_10\"\n",
      "_________________________________________________________________\n",
      "Layer (type)                 Output Shape              Param #   \n",
      "=================================================================\n",
      "Conv_1D_1 (Conv1D)           (None, None, 704)         1487552   \n",
      "_________________________________________________________________\n",
      "LSTM_1 (LSTM)                (None, 256)               984064    \n",
      "_________________________________________________________________\n",
      "dense_1 (Dense)              (None, 256)               65792     \n",
      "_________________________________________________________________\n",
      "dense_2 (Dense)              (None, 256)               65792     \n",
      "_________________________________________________________________\n",
      "output_layer (Dense)         (None, 17)                4369      \n",
      "=================================================================\n",
      "Total params: 2,607,569\n",
      "Trainable params: 2,607,569\n",
      "Non-trainable params: 0\n",
      "_________________________________________________________________\n"
     ]
    }
   ],
   "source": [
    "model_file = ''\n",
    "\n",
    "load_latest = True\n",
    "\n",
    "if load_latest:\n",
    "    files = [os.path.join(config['model_folder'], f) for f in os.listdir(config['model_folder']) if (f.lower().endswith('.h5'))]\n",
    "    file_mtimes = [os.path.getmtime(f) for f in files]\n",
    "    \n",
    "    files.sort(key=os.path.getmtime, reverse=True)\n",
    "    \n",
    "    model_file = files[0]\n",
    "if model_file != '':\n",
    "    model = keras.models.load_model(model_file)\n",
    "    model.summary()"
   ]
  },
  {
   "cell_type": "code",
   "execution_count": 153,
   "metadata": {},
   "outputs": [
    {
     "name": "stdout",
     "output_type": "stream",
     "text": [
      "{'input_layer_size': 704, 'output_layer_size': 17}\n",
      "Model: \"sequential_10\"\n",
      "_________________________________________________________________\n",
      "Layer (type)                 Output Shape              Param #   \n",
      "=================================================================\n",
      "Conv_1D_1 (Conv1D)           (None, None, 704)         1487552   \n",
      "_________________________________________________________________\n",
      "LSTM_1 (LSTM)                (None, 256)               984064    \n",
      "_________________________________________________________________\n",
      "dense_1 (Dense)              (None, 256)               65792     \n",
      "_________________________________________________________________\n",
      "dense_2 (Dense)              (None, 256)               65792     \n",
      "_________________________________________________________________\n",
      "output_layer (Dense)         (None, 17)                4369      \n",
      "=================================================================\n",
      "Total params: 2,607,569\n",
      "Trainable params: 2,607,569\n",
      "Non-trainable params: 0\n",
      "_________________________________________________________________\n"
     ]
    }
   ],
   "source": [
    "LSTM_config = {\n",
    "    'input_layer_size': np.prod([stft[0].shape[0], stft[0].shape[2]]),\n",
    "    'output_layer_size': np.hstack([config['delta_time_k'], config['tap_count_times_p']]).shape[0]\n",
    "}\n",
    "\n",
    "print(LSTM_config)\n",
    "\n",
    "model = keras.Sequential()\n",
    "\n",
    "model.add(keras.Input(shape=(None, LSTM_config['input_layer_size'])))\n",
    "model.add(layers.Conv1D(filters=LSTM_config['input_layer_size'],\n",
    "                        kernel_size=3,\n",
    "                        #kernel_regularizer=keras.regularizers.L2(1e-3),\n",
    "                        #bias_regularizer=keras.regularizers.L2(1e-3),\n",
    "                        name='Conv_1D_1'))\n",
    "model.add(layers.LSTM(units=256, name='LSTM_1'))\n",
    "model.add(layers.Dense(256, activation='relu', name='dense_1'))\n",
    "#model.add(layers.Dropout(0.1, name='dropout_1'))\n",
    "model.add(layers.Dense(256, activation='relu', name='dense_2'))\n",
    "#model.add(layers.Dropout(0.1, name='dropout_2'))\n",
    "model.add(layers.Dense(LSTM_config['output_layer_size'], name='output_layer'))\n",
    "\n",
    "model.summary()\n",
    "\n",
    "lr_schedule = keras.optimizers.schedules.ExponentialDecay(\n",
    "    initial_learning_rate=1e-3,\n",
    "    decay_steps=500,\n",
    "    decay_rate=0.98)\n",
    "\n",
    "opt = keras.optimizers.Adam(learning_rate=lr_schedule)\n",
    "model.compile(loss='mean_squared_error', optimizer=opt)"
   ]
  },
  {
   "cell_type": "markdown",
   "metadata": {},
   "source": [
    "### Fit model"
   ]
  },
  {
   "cell_type": "code",
   "execution_count": 15,
   "metadata": {},
   "outputs": [],
   "source": [
    "ppt_train = DataLoader(stft_norm_train, taps_train, batch_size=16)\n",
    "\n",
    "ppt_validation = DataLoader(stft_norm_validation, taps_validation, batch_size=16)\n",
    "\n",
    "ppt_test = DataLoader(stft_norm_test, taps_test, shuffle=False)"
   ]
  },
  {
   "cell_type": "code",
   "execution_count": null,
   "metadata": {},
   "outputs": [],
   "source": [
    "model.fit(ppt_train,\n",
    "          epochs=30,\n",
    "          steps_per_epoch=1000,\n",
    "          validation_data=ppt_validation,\n",
    "          validation_steps=20,\n",
    "          use_multiprocessing=False,\n",
    "          verbose=1)"
   ]
  },
  {
   "cell_type": "code",
   "execution_count": 156,
   "metadata": {},
   "outputs": [
    {
     "name": "stdout",
     "output_type": "stream",
     "text": [
      "Saving model at D:/Coding/Thesis/movement_prediction/Models/mov_pred_model_12.03.2021_20.38.19.h5\n",
      "Model done saving.\n"
     ]
    }
   ],
   "source": [
    "time_now = datetime.now().strftime('%d.%m.%Y_%H.%M.%S')\n",
    "\n",
    "save_location = config['model_folder'] + 'mov_pred_model_' + time_now + '.h5'\n",
    "\n",
    "print(f'Saving model at {save_location}')\n",
    "model.save(save_location)\n",
    "print(f'Model done saving.')"
   ]
  },
  {
   "cell_type": "markdown",
   "metadata": {},
   "source": [
    "## Plot model prediction against true values"
   ]
  },
  {
   "cell_type": "code",
   "execution_count": 15,
   "metadata": {},
   "outputs": [],
   "source": [
    "# Predict on all sequences\n",
    "#ppt_validation_shuffle = DataLoader(stft_norm_validation, taps_validation, batch_size=64, shuffle=True)\n",
    "ppt_train_unshuffled = DataLoader(stft_norm_train, taps_train, shuffle=False)\n",
    "\n",
    "_X, _Y, _Y_hat = [], [], []\n",
    "for i in range(1):\n",
    "    _x, _y = ppt_train_unshuffled[i]\n",
    "    _X.append(_x)\n",
    "    _Y.append(_y)\n",
    "    _Y_hat.append(model.predict(_x))\n",
    "    \n",
    "#_Y_random = model.predict(np.random.rand(10, 235, 704))\n",
    "\n",
    "#print(_X.shape)\n",
    "#print(y_hat.shape)\n",
    "#print(np.std(y_hat, axis=0))"
   ]
  },
  {
   "cell_type": "code",
   "execution_count": 19,
   "metadata": {},
   "outputs": [
    {
     "data": {
      "text/plain": [
       "<Figure size 432x288 with 0 Axes>"
      ]
     },
     "metadata": {},
     "output_type": "display_data"
    },
    {
     "data": {
      "image/png": "[encoded data removed]",
      "text/plain": [
       "<Figure size 360x1080 with 1 Axes>"
      ]
     },
     "metadata": {
      "needs_background": "light"
     },
     "output_type": "display_data"
    }
   ],
   "source": [
    "# New plots for new test framework\n",
    "%matplotlib inline\n",
    "\n",
    "RMSE = np.sqrt(((_Y_hat[0] - _Y[0]) ** 2).mean(0))\n",
    "\n",
    "sequence_id = 0\n",
    "output_feature = 0\n",
    "\n",
    "#fig, ((deltas_plt, n_taps_plt), (RMSE_deltas_plt, RMSE_ntaps_plt)) = plt.subplots(2, 2, figsize=(15, 15))\n",
    "\n",
    "plt.figure()\n",
    "fig, axs = plt.subplots(len(_Y), 1, figsize=(5 * len(_Y), 15))\n",
    "\n",
    "\n",
    "for sequence_id in range(len(_Y)):\n",
    "    axs.plot(10 ** _Y_hat[sequence_id][:, output_feature], '--')\n",
    "    axs.plot(10 ** _Y[sequence_id][:, output_feature], '-')\n",
    "    axs.set_xlabel('Time in samples')\n",
    "    axs.set_ylabel('$\\Delta t$ in ms')\n",
    "plt.show()\n"
   ]
  },
  {
   "cell_type": "code",
   "execution_count": null,
   "metadata": {},
   "outputs": [],
   "source": []
  },
  {
   "cell_type": "code",
   "execution_count": 147,
   "metadata": {},
   "outputs": [
    {
     "name": "stderr",
     "output_type": "stream",
     "text": [
      "C:\\Users\\lukav\\Anaconda3\\envs\\movement_prediction\\lib\\site-packages\\seaborn\\_decorators.py:43: FutureWarning: Pass the following variables as keyword args: x, y. From version 0.12, the only valid positional argument will be `data`, and passing other arguments without an explicit keyword will result in an error or misinterpretation.\n",
      "  FutureWarning\n"
     ]
    },
    {
     "data": {
      "text/plain": [
       "<AxesSubplot:>"
      ]
     },
     "execution_count": 147,
     "metadata": {},
     "output_type": "execute_result"
    },
    {
     "data": {
      "image/png": "[encoded data removed]",
      "text/plain": [
       "<Figure size 432x288 with 1 Axes>"
      ]
     },
     "metadata": {
      "needs_background": "light"
     },
     "output_type": "display_data"
    }
   ],
   "source": [
    "# XY Scatter plot\n",
    "import seaborn as sb\n",
    "\n",
    "\n",
    "sb.regplot(10 ** _Y[sequence_id][:800, output_feature],\n",
    "           10 ** _Y_hat[sequence_id][:800, output_feature])\n",
    "\n",
    "#plt.figure(figsize=(11, 11))\n",
    "#plt.scatter(10 ** _Y[sequence_id][:800, output_feature],\n",
    "#            10 ** _Y_hat[sequence_id][:800, output_feature])\n",
    "\n",
    "#plt.show"
   ]
  },
  {
   "cell_type": "markdown",
   "metadata": {},
   "source": [
    "## Comparing predicted versus observed values statistically\n",
    "\n",
    "In order to compare the observed versus predicted delta times, we can try to predict predicted values from the real values sing a polynomial linear regression.\n",
    "\n",
    "Here, I construct a simple polynomial regression model to predict predicted values from observed values.\n",
    "\n",
    "TODO: Model that predicts residuals from observed values."
   ]
  },
  {
   "cell_type": "code",
   "execution_count": 105,
   "metadata": {},
   "outputs": [
    {
     "name": "stdout",
     "output_type": "stream",
     "text": [
      "PolynomialFeatures()\n"
     ]
    }
   ],
   "source": [
    "from sklearn import linear_model\n",
    "from sklearn.preprocessing import PolynomialFeatures\n",
    "\n",
    "reg = PolynomialFeatures(degree=2)\n",
    "\n",
    "reg.fit_transform(_Y[0][:800, output_feature].reshape(-1, 1),\n",
    "                  _Y_hat[0][:800, output_feature].reshape(-1, 1))\n",
    "\n",
    "print(reg)"
   ]
  },
  {
   "cell_type": "code",
   "execution_count": null,
   "metadata": {},
   "outputs": [],
   "source": [
    "%matplotlib inline\n",
    "\n",
    "batch_id = np.arange(8)\n",
    "\n",
    "RMSE = np.sqrt(((y_hat - _y) ** 2).mean(0))\n",
    "\n",
    "fig, ((deltas_plt, n_taps_plt), (RMSE_deltas_plt, RMSE_ntaps_plt)) = plt.subplots(2, 2, figsize=(15, 15))\n",
    "\n",
    "# Generate rainbow colors\n",
    "colors = mpl.cm.rainbow\n",
    "\n",
    "\n",
    "# Mean plots\n",
    "deltas_plt.plot(10 ** y_hat[batch_id, 0:10].T, '--')\n",
    "#deltas_plt.fill_between(np.arange(len(config['delta_time_k'])),\n",
    "#                        10 ** np.min(y_hat[:, 0:10], axis=0),\n",
    "#                        10 ** np.max(y_hat[:, 0:10], axis=0))\n",
    "\n",
    "deltas_plt.plot(10 ** _y[batch_id, 0:10].T)\n",
    "deltas_plt.set(title='Delta time to future taps in ms',\n",
    "               xlabel='kth future tap',\n",
    "               ylabel='$\\Delta t$ in ms')\n",
    "plt.sca(deltas_plt)\n",
    "plt.xticks(np.arange(len(config['delta_time_k'])), config['delta_time_k'])\n",
    "\n",
    "n_taps_plt.plot(10 ** y_hat[batch_id, 10:].T, '--')\n",
    "n_taps_plt.plot(10 ** _y[batch_id, 10:].T)\n",
    "n_taps_plt.set(title='Number of taps in future p seconds',\n",
    "               xlabel='Future time in s',\n",
    "               ylabel='n taps')\n",
    "plt.sca(n_taps_plt)\n",
    "plt.xticks(np.arange(len(config['tap_count_times_p'])), config['tap_count_times_p'])\n",
    "\n",
    "custom_legend_items = [mpl.lines.Line2D([0], [0], lw=2, ls='--'),\n",
    "                       mpl.lines.Line2D([0], [0], lw=2, ls='-')]\n",
    "plt.legend(custom_legend_items, [r'$\\hat{Y}$', r'$Y$'], bbox_to_anchor=(1.2, 1), loc=1)\n",
    "\n",
    "\n",
    "\n",
    "# RMSE plots\n",
    "RMSE_deltas_plt.plot(RMSE[:10])\n",
    "RMSE_deltas_plt.set(title='RMSE delta time',\n",
    "               xlabel='kth future tap',\n",
    "               ylabel='RMSE')\n",
    "plt.sca(RMSE_deltas_plt)\n",
    "plt.xticks(np.arange(len(config['delta_time_k'])), config['delta_time_k'])\n",
    "\n",
    "RMSE_ntaps_plt.plot(RMSE[10:])\n",
    "RMSE_ntaps_plt.set(title='RMSE n future taps',\n",
    "               xlabel='Future time in s',\n",
    "               ylabel='RMSE')\n",
    "plt.sca(RMSE_ntaps_plt)\n",
    "plt.xticks(np.arange(len(config['tap_count_times_p'])), config['tap_count_times_p'])\n",
    "\n",
    "\n",
    "\n",
    "plt.show()"
   ]
  }
 ],
 "metadata": {
  "kernelspec": {
   "display_name": "Python 3",
   "language": "python",
   "name": "python3"
  },
  "language_info": {
   "codemirror_mode": {
    "name": "ipython",
    "version": 3
   },
   "file_extension": ".py",
   "mimetype": "text/x-python",
   "name": "python",
   "nbconvert_exporter": "python",
   "pygments_lexer": "ipython3",
   "version": "3.7.10"
  }
 },
 "nbformat": 4,
 "nbformat_minor": 4
}
