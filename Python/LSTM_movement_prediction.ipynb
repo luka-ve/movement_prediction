{
 "cells": [
  {
   "cell_type": "code",
   "execution_count": 2,
   "metadata": {},
   "outputs": [],
   "source": [
    "import glob\n",
    "import random\n",
    "import h5py\n",
    "import numpy as np"
   ]
  },
  {
   "cell_type": "markdown",
   "metadata": {},
   "source": [
    "Find data files recursively from root folder."
   ]
  },
  {
   "cell_type": "code",
   "execution_count": 3,
   "metadata": {},
   "outputs": [],
   "source": [
    "data_path = \"D:/Coding/Thesis/Data/STFT Output/**/*.h5\"\n",
    "data_files = glob.glob(data_path, recursive=True)"
   ]
  },
  {
   "cell_type": "code",
   "execution_count": 4,
   "metadata": {},
   "outputs": [],
   "source": [
    "config = {}\n",
    "\n",
    "config['EEG_window_length_in_samples'] = 30000"
   ]
  },
  {
   "cell_type": "markdown",
   "metadata": {},
   "source": [
    "The ParticipantData class contains and acts on participant data. It knows about the structure of the h5 files and can return random windows of EEG activity."
   ]
  },
  {
   "cell_type": "code",
   "execution_count": 47,
   "metadata": {},
   "outputs": [],
   "source": [
    "class ParticipantData:\n",
    "    def __init__(self, data_files):\n",
    "        self.data_file_paths = data_files\n",
    "        \n",
    "        self.open_h5_files()\n",
    "        \n",
    "        self._generate_group_idx()\n",
    "    \n",
    "    \n",
    "    def _generate_group_idx(self):\n",
    "        self.sessions = [list(participant.keys()) for participant in self.data_files_open]\n",
    "\n",
    "        #windows = [list(participant[session].keys()) for participant in data_files_open for session in list(participant.keys())]\n",
    "        self.windows = []\n",
    "        for participant in self.data_files_open:\n",
    "            for session in list(participant.keys()):\n",
    "                self.windows.append(list(participant[session].keys()))\n",
    "    \n",
    "    \n",
    "    def open_h5_files(self):\n",
    "        self.data_files_open = [h5py.File(f, 'r') for f in self.data_file_paths]\n",
    "    \n",
    "    \n",
    "    def close_h5_files(self):\n",
    "        for f in self.data_files_open:\n",
    "            f.close()\n",
    "        \n",
    "        self.data_files_open = []\n",
    "    \n",
    "    \n",
    "    def get_random_EEG_window(self, window_size):\n",
    "        ppt = random.choice(self.data_files_open)        \n",
    "        session = random.choice(list(ppt.keys()))\n",
    "        activity_window = random.choice(list(ppt[session].keys()))\n",
    "        \n",
    "        window_start_idx = random.randrange(ppt[session][activity_window]['stft'].shape[0] - window_size)\n",
    "        \n",
    "        window_idx = range(window_start_idx, window_start_idx + window_size)\n",
    "        \n",
    "\n",
    "        input_data = np.array(ppt[session][activity_window]['stft'][window_idx, :, :][0])\n",
    "        \n",
    "        output_data = self.get_taps_in_window(ppt[session][activity_window]['taps'], window_idx[0], window_idx[-1])\n",
    "                \n",
    "        return(input_data, output_data)\n",
    "    \n",
    "    \n",
    "    def get_taps_in_window(self, taps, window_start, window_end):\n",
    "        _taps = np.array(taps)\n",
    "        \n",
    "        self.get_delta_taps()\n",
    "        \n",
    "        self.get_n_future_taps()\n",
    "        \n",
    "        result = []\n",
    "        \n",
    "        return(result)\n",
    "    \n",
    "    def get_delta_taps(self):\n",
    "        pass\n",
    "    \n",
    "    def get_n_future_taps(self):\n",
    "        pass"
   ]
  },
  {
   "cell_type": "code",
   "execution_count": 48,
   "metadata": {},
   "outputs": [],
   "source": [
    "ppt_data = ParticipantData(data_files)"
   ]
  },
  {
   "cell_type": "code",
   "execution_count": 49,
   "metadata": {},
   "outputs": [
    {
     "data": {
      "text/plain": [
       "(array([[12.13350964,  7.41144276,  9.55447197, 10.58475971, 10.4837513 ,\n",
       "          8.28670597,  9.07802105,  8.24339294,  7.65415144,  8.15209675,\n",
       "          8.81490993,  7.20322561,  7.47662544,  7.91811657,  5.72772503,\n",
       "          7.08757448,  7.71772289,  6.81636095,  6.97858763,  4.58052301,\n",
       "          6.42834949,  8.07438469,  7.25997162,  7.00556755,  7.32896805,\n",
       "          6.46357298,  7.35826492,  7.49879503,  3.22935486,  6.00881433,\n",
       "          6.71954584,  6.04467201]]), [])"
      ]
     },
     "execution_count": 49,
     "metadata": {},
     "output_type": "execute_result"
    }
   ],
   "source": [
    "ppt_data.get_random_EEG_window(config['EEG_window_length_in_samples'])"
   ]
  },
  {
   "cell_type": "markdown",
   "metadata": {},
   "source": [
    "Assign real and imaginary part of stft output separately to new numpy array."
   ]
  },
  {
   "cell_type": "code",
   "execution_count": 45,
   "metadata": {},
   "outputs": [
    {
     "name": "stdout",
     "output_type": "stream",
     "text": [
      "3112552\n",
      "3142553\n"
     ]
    }
   ],
   "source": [
    "f = h5py.File(data_files[0], 'r')\n",
    "\n",
    "list(f['12_02_11_04_19']['window_1'].keys())\n",
    "\n",
    "print(f['12_02_11_04_19']['window_1']['taps'][:, -1][0])\n",
    "print(f['12_02_11_04_19']['window_1']['stft'].shape[0])"
   ]
  },
  {
   "cell_type": "markdown",
   "metadata": {},
   "source": [
    "Close h5 files again."
   ]
  },
  {
   "cell_type": "code",
   "execution_count": 50,
   "metadata": {},
   "outputs": [],
   "source": [
    "ppt_data.close_h5_files()"
   ]
  },
  {
   "cell_type": "code",
   "execution_count": null,
   "metadata": {},
   "outputs": [],
   "source": []
  }
 ],
 "metadata": {
  "kernelspec": {
   "display_name": "Python 3",
   "language": "python",
   "name": "python3"
  },
  "language_info": {
   "codemirror_mode": {
    "name": "ipython",
    "version": 3
   },
   "file_extension": ".py",
   "mimetype": "text/x-python",
   "name": "python",
   "nbconvert_exporter": "python",
   "pygments_lexer": "ipython3",
   "version": "3.7.4"
  }
 },
 "nbformat": 4,
 "nbformat_minor": 4
}
