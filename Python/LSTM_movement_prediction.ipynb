{
 "cells": [
  {
   "cell_type": "code",
   "execution_count": 1,
   "metadata": {},
   "outputs": [],
   "source": [
    "import glob\n",
    "import random\n",
    "import h5py\n",
    "import numpy as np\n",
    "import matplotlib.pyplot as plt\n",
    "\n",
    "import pprint\n",
    "\n",
    "from tensorflow import keras\n",
    "from tensorflow.keras import layers"
   ]
  },
  {
   "cell_type": "markdown",
   "metadata": {},
   "source": [
    "Find data files recursively from root folder."
   ]
  },
  {
   "cell_type": "code",
   "execution_count": 2,
   "metadata": {},
   "outputs": [],
   "source": [
    "data_path = \"D:/Coding/Thesis/Data/STFT Output/**/*.h5\"\n",
    "data_files = glob.glob(data_path, recursive=True)"
   ]
  },
  {
   "cell_type": "code",
   "execution_count": 3,
   "metadata": {},
   "outputs": [],
   "source": [
    "config = {}\n",
    "\n",
    "config['EEG_window_length_in_ms'] = 30000"
   ]
  },
  {
   "cell_type": "markdown",
   "metadata": {},
   "source": [
    "Next, we configure the output layer of the LSTM:\n",
    "\n",
    "\n",
    "`delta_time_k` predicts the delta time to the next $k^{th}$ tap.\n",
    "\n",
    "`tap_count_times_p` predicts the *number of taps* within the next $p$ seconds."
   ]
  },
  {
   "cell_type": "code",
   "execution_count": 4,
   "metadata": {},
   "outputs": [],
   "source": [
    "config['delta_time_k'] = np.array([1, 2, 3, 4, 5, 6, 7, 8, 9, 10])\n",
    "config['tap_count_times_p'] = np.array([0.5, 1, 5, 10, 50, 100, 500])\n",
    "\n",
    "config['EEG_sampling_rate'] = 1000\n",
    "config['stft_stride'] = 32\n",
    "config['sampling_rate_after_stft'] = config['EEG_sampling_rate'] / config['stft_stride']\n",
    "config['sample_length_after_stft'] = 1000 / config['sampling_rate_after_stft']\n",
    "\n",
    "config['tap_count_times_in_samples'] = np.multiply(config['tap_count_times_p'], config['EEG_sampling_rate'])"
   ]
  },
  {
   "cell_type": "markdown",
   "metadata": {},
   "source": [
    "# The ParticipantData class\n",
    "The ParticipantData class contains and acts on participant data. It knows about the structure of the h5 files and can return random windows of EEG activity and taps, i.e., training data.\n",
    "\n",
    "The stft data in the h5 files is 3-dimensional:\n",
    "1. EEG channel\n",
    "2. EEG timeseries\n",
    "3. STFT frequency bins"
   ]
  },
  {
   "cell_type": "markdown",
   "metadata": {},
   "source": [
    "# Load data into memory\n",
    "\n",
    "Instead of loading data from the h5 file when we need it, we load all the data of a single participant into memory (because it fits and it's easier)"
   ]
  },
  {
   "cell_type": "code",
   "execution_count": 5,
   "metadata": {},
   "outputs": [],
   "source": [
    "def load_data(h5_files):\n",
    "    EEG, taps = [], []\n",
    "    \n",
    "    # Makse sure that if a single file is passed in, it is put into a list\n",
    "    if type(h5_files) != 'list':\n",
    "        h5_files = [h5_files]\n",
    "    \n",
    "    for f in h5_files:\n",
    "        with h5py.File(f, 'r') as f_open:        \n",
    "            for session in list(f_open.keys()):\n",
    "                for activity_window in list(f_open[session].keys()):\n",
    "                    EEG.append(np.array(f_open[session][activity_window]['stft']))\n",
    "                    taps.append(np.array(f_open[session][activity_window]['taps']))\n",
    "    \n",
    "    ############# Inf found in data!\n",
    "    for i in EEG:\n",
    "        i[np.isinf(i)] = 0\n",
    "    \n",
    "    return (EEG, taps)\n",
    "\n",
    "stft, taps = load_data(data_files[0])"
   ]
  },
  {
   "cell_type": "code",
   "execution_count": 6,
   "metadata": {},
   "outputs": [
    {
     "name": "stdout",
     "output_type": "stream",
     "text": [
      "NaN: 0\n",
      "Inf: 0\n"
     ]
    }
   ],
   "source": [
    "def normalize_input(_input):\n",
    "    # stft: A list of np arrays.\n",
    "    stft_cat = np.concatenate(_input, axis=1)\n",
    "    \n",
    "    print(f'NaN: {np.sum(np.isnan(stft_cat))}')\n",
    "    print(f'Inf: {np.sum(np.isinf(stft_cat))}')\n",
    "    \n",
    "    means = np.mean(stft_cat, axis=(0, 1), keepdims=True)\n",
    "    st_devs = np.std(stft_cat, axis=(0, 1), keepdims=True)\n",
    "    \n",
    "    out = [(i - means) - st_devs for i in _input]\n",
    "    \n",
    "    return out\n",
    "\n",
    "stft_norm = normalize_input(stft)"
   ]
  },
  {
   "cell_type": "markdown",
   "metadata": {},
   "source": [
    "### Replacing ParticipantData class with class inherited from `tf.keras.utils.Sequence`"
   ]
  },
  {
   "cell_type": "code",
   "execution_count": 25,
   "metadata": {},
   "outputs": [],
   "source": [
    "class DataLoader(keras.utils.Sequence):\n",
    "    def __init__(self, x, y, window_length=30000, batch_size=32, n_samples=2000, shuffle=True):\n",
    "        self.x = x\n",
    "        self.y = y\n",
    "        self.window_length = window_length\n",
    "        self.batch_size = batch_size\n",
    "        self.n_samples = n_samples\n",
    "        self.shuffle = shuffle\n",
    "        \n",
    "        self.subset_probabilities = self._get_subset_probabilites(x)\n",
    "    \n",
    "    \n",
    "    def __len__(self):\n",
    "        win_lengths = [win.shape[1] for win in self.x]\n",
    "        return sum(win_lengths) // self.batch_size\n",
    "    \n",
    "    \n",
    "    def __getitem__(self, index):\n",
    "        '''\n",
    "        Get a single item from a Sequence.\n",
    "        '''\n",
    "        \n",
    "        # For testing only\n",
    "        #return np.random.rand(self.batch_size, 938, 2048), np.random.rand(self.batch_size, 17)\n",
    "        \n",
    "        X = []\n",
    "        Y = []\n",
    "        \n",
    "        for batch in range(self.batch_size):\n",
    "            if self.shuffle:\n",
    "                # Pick random activity window\n",
    "                # Since subsets are of different length and contain different amounts of data,\n",
    "                # we need to adjust the probability of each subset being picked to its length.\n",
    "                subset_idx = np.random.choice(len(self.x), p = self.subset_probabilities)\n",
    "\n",
    "                # Pick random EEG window\n",
    "                window_length_in_samples = np.ceil(self.window_length / config['stft_stride']).astype(np.int)\n",
    "\n",
    "                window_end_idx = np.random.randint(window_length_in_samples, self.x[subset_idx].shape[1])       \n",
    "                window_idx_stft = np.arange(window_end_idx - window_length_in_samples, window_end_idx, dtype=np.int)        \n",
    "\n",
    "                input_data = np.array(self.x[subset_idx][:, window_idx_stft, :])\n",
    "                \n",
    "                # Get appropriate tap info        \n",
    "                window_end_idx_tap_adjusted = np.ceil(np.array(window_end_idx) * config['sampling_rate_after_stft']).astype(np.int)\n",
    "\n",
    "                output_data = self.get_taps_in_window(self.y[subset_idx], window_end_idx_tap_adjusted)\n",
    "            else:\n",
    "                subset_idx = index[0]\n",
    "                \n",
    "                # EEG data\n",
    "                window_length_in_samples = np.ceil(self.window_length / config['stft_stride']).astype(np.int)\n",
    "                window_idx_stft = np.arange(index - window_length_in_samples, index, dtype=np.int)\n",
    "                input_data = np.array(self.x[subset_idx][:, window_idx_stft, :])\n",
    "                \n",
    "                # Tap data\n",
    "                window_end_idx_tap_adjusted = np.ceil(np.array(index[1]) * config['sampling_rate_after_stft']).astype(np.int)\n",
    "                output_data = self.get_taps_in_window(self.y[subset_idx], window_end_idx_tap_adjusted)\n",
    "            \n",
    "            # Move Time information to first axis\n",
    "            input_data = np.moveaxis(input_data, 1, 0)\n",
    "            \n",
    "            # Reshape multidimensional features into a single dimension\n",
    "            input_data = np.reshape(input_data, (input_data.shape[0], np.prod(input_data.shape[1:3])))\n",
    "            \n",
    "            \n",
    "            \n",
    "            X.append(input_data)\n",
    "            Y.append(output_data)\n",
    "                \n",
    "        # Convert list of samples into a 3D array.\n",
    "        # The first dimension is the sample, second dimension the timesteps, third dimension the features\n",
    "        X = np.array(X)\n",
    "        Y = np.array(Y)\n",
    "        \n",
    "        # Warn if any NaN detected in data\n",
    "        if np.any(np.isnan(X)):\n",
    "            print('NaN values found in X!')\n",
    "        if np.any(np.isnan(Y)):\n",
    "            print('NaN values found in Y!')\n",
    "                \n",
    "        return X, Y\n",
    "    \n",
    "    def on_epoch_end(self):\n",
    "        pass\n",
    "    \n",
    "    def _get_subset_probabilites(self, x):\n",
    "        lengths = np.array([win.shape[1] for win in x])\n",
    "        \n",
    "        return lengths / sum(lengths)\n",
    "        \n",
    "    \n",
    "    def get_taps_in_window(self, taps, window_end):      \n",
    "        tap_deltas = self.get_delta_taps(taps, window_end)\n",
    "        \n",
    "        future_tap_n = self.get_n_future_taps(taps, window_end)\n",
    "        \n",
    "        result = np.concatenate((tap_deltas, future_tap_n))\n",
    "\n",
    "        # Convert values to log to avoid huge values\n",
    "        result = [np.log10(tap) if tap > 0 else tap for tap in result]\n",
    "        \n",
    "        threshold_ms = 1\n",
    "        result = np.maximum(result, np.log10(threshold_ms))\n",
    "        \n",
    "        return result\n",
    "    \n",
    "    \n",
    "    def get_delta_taps(self, taps, window_idx):\n",
    "        n_k = len(config['delta_time_k'])\n",
    "        \n",
    "        next_kth_taps = taps[taps > window_idx][:n_k]\n",
    "        \n",
    "        # Ensure that if not enough taps were found the array is padded with 0s.\n",
    "        # This only occurs \n",
    "        if len(next_kth_taps) < n_k:\n",
    "            next_kth_taps = np.concatenate((next_kth_taps, np.zeros(n_k - len(next_kth_taps))))\n",
    "        \n",
    "        tap_deltas = next_kth_taps - window_idx\n",
    "        \n",
    "        return tap_deltas\n",
    "            \n",
    "    \n",
    "    def get_n_future_taps(self, taps, window_idx):\n",
    "        n_future_taps = np.zeros(len(config['tap_count_times_in_samples']))\n",
    "        \n",
    "        for p_idx, p in enumerate(config['tap_count_times_in_samples']):\n",
    "            n_future_taps[p_idx] = len(\n",
    "                taps[\n",
    "                    (taps > window_idx) &\n",
    "                    (taps <= (window_idx + p))\n",
    "                ]\n",
    "            )\n",
    "        \n",
    "        return n_future_taps"
   ]
  },
  {
   "cell_type": "markdown",
   "metadata": {},
   "source": [
    "# Determining the in- and outputs of the LSTM\n",
    "Next, we check the sizes that are returned by our data generation function."
   ]
  },
  {
   "cell_type": "code",
   "execution_count": 37,
   "metadata": {},
   "outputs": [],
   "source": [
    "ppt1 = DataLoader(stft_norm, taps, batch_size=16)"
   ]
  },
  {
   "cell_type": "code",
   "execution_count": 38,
   "metadata": {},
   "outputs": [],
   "source": [
    "my_batch_x, my_batch_y = ppt1[0] # get a random batch"
   ]
  },
  {
   "cell_type": "markdown",
   "metadata": {},
   "source": [
    "And do a sanity check on the content of the generated target data."
   ]
  },
  {
   "cell_type": "code",
   "execution_count": 39,
   "metadata": {},
   "outputs": [
    {
     "name": "stdout",
     "output_type": "stream",
     "text": [
      "Input layer dimensions: (16, 938, 2048)\n",
      "Output layer dimensions: (16, 17)\n",
      "Output layer values: [2.85430604 3.62767303 3.76049788 4.11594318 4.15956719 4.18525877\n",
      " 4.20561031 4.26131046 4.30431815 4.36202985 0.         0.\n",
      " 0.30103    0.47712125 1.14612804 1.5797836  2.38738983]\n"
     ]
    },
    {
     "data": {
      "image/png": "[encoded data removed]",
      "text/plain": [
       "<Figure size 432x288 with 1 Axes>"
      ]
     },
     "metadata": {
      "needs_background": "light"
     },
     "output_type": "display_data"
    }
   ],
   "source": [
    "np.set_printoptions(suppress=True)\n",
    "\n",
    "print(f'Input layer dimensions: {my_batch_x.shape}')\n",
    "print(f'Output layer dimensions: {my_batch_y.shape}')\n",
    "print(f'Output layer values: {my_batch_y[0]}')\n",
    "\n",
    "plt.plot(my_batch_x[0, :, :])\n",
    "plt.title('Single eeg channel, freq band power over time')\n",
    "plt.show()"
   ]
  },
  {
   "cell_type": "markdown",
   "metadata": {},
   "source": [
    "## Input layer\n",
    "The ParticipantData class generates an input information that is $938 \\times 64 \\times 32$ in size. Since the first dimension is the temporal information, the LSTM's input layer has a size of $64 \\times 32 = 2048$ and takes a window of 938 samples at a time.\n",
    "\n",
    "This conversion from window length in ms to window length in STFT samples can be calculated by the following formula:\n",
    "\n",
    "$$\n",
    "\\bigl\\lceil\n",
    "\\frac{\\frac{\\text{T}}{1000} \\text{Fs}}\n",
    "{\\text{R}}\n",
    "\\bigr\\rceil\n",
    "$$\n",
    "\n",
    ", where $T$ is the window length in ms, $Fs$ is the original sampling rate, and $R$ is the hopsize of the STFT.\n",
    "\n",
    "## Output layer\n",
    "The ParticipantData class also generates training output. The output layer has a length of 17. It is composed of the $\\Delta t$ to the next $k$ steps in ms, as well as the number of taps within the next $p$ seconds. Which and how many $k$ and $p$ are predicted is defined in the config dictionary at the top of the script. The size of the output layer is defined as $|K| + |P|$"
   ]
  },
  {
   "cell_type": "markdown",
   "metadata": {},
   "source": [
    "# LSTM\n",
    "## Configure LSTM"
   ]
  },
  {
   "cell_type": "code",
   "execution_count": 40,
   "metadata": {},
   "outputs": [
    {
     "name": "stdout",
     "output_type": "stream",
     "text": [
      "{'input_layer_size': 2048, 'output_layer_size': 17}\n",
      "Model: \"sequential_2\"\n",
      "_________________________________________________________________\n",
      "Layer (type)                 Output Shape              Param #   \n",
      "=================================================================\n",
      "lstm_2 (LSTM)                (None, 128)               1114624   \n",
      "_________________________________________________________________\n",
      "dense_2 (Dense)              (None, 17)                2193      \n",
      "=================================================================\n",
      "Total params: 1,116,817\n",
      "Trainable params: 1,116,817\n",
      "Non-trainable params: 0\n",
      "_________________________________________________________________\n"
     ]
    }
   ],
   "source": [
    "LSTM_config = {\n",
    "    'input_layer_size': my_batch_x.shape[2],\n",
    "    'output_layer_size': my_batch_y.shape[1]\n",
    "}\n",
    "\n",
    "print(LSTM_config)\n",
    "\n",
    "model = keras.Sequential()\n",
    "\n",
    "model.add(keras.Input(shape=(None, LSTM_config['input_layer_size'])))\n",
    "model.add(layers.LSTM(128))\n",
    "model.add(layers.Dense(LSTM_config['output_layer_size'], ))\n",
    "\n",
    "model.summary()\n",
    "\n",
    "opt = keras.optimizers.Adam(learning_rate=0.01)\n",
    "model.compile(loss='mean_squared_error', optimizer=opt)"
   ]
  },
  {
   "cell_type": "markdown",
   "metadata": {},
   "source": [
    "## Fit model"
   ]
  },
  {
   "cell_type": "code",
   "execution_count": 41,
   "metadata": {},
   "outputs": [
    {
     "name": "stdout",
     "output_type": "stream",
     "text": [
      "WARNING:tensorflow:sample_weight modes were coerced from\n",
      "  ...\n",
      "    to  \n",
      "  ['...']\n",
      "Train for 32 steps\n",
      "Epoch 1/3\n",
      "32/32 [==============================] - 159s 5s/step - loss: 4.3596\n",
      "Epoch 2/3\n",
      "32/32 [==============================] - 154s 5s/step - loss: 1.9371\n",
      "Epoch 3/3\n",
      "32/32 [==============================] - 161s 5s/step - loss: 1.4272\n"
     ]
    },
    {
     "data": {
      "text/plain": [
       "<tensorflow.python.keras.callbacks.History at 0x156ba963248>"
      ]
     },
     "execution_count": 41,
     "metadata": {},
     "output_type": "execute_result"
    }
   ],
   "source": [
    "model.fit(ppt1, epochs=3, steps_per_epoch=32, verbose=1)"
   ]
  },
  {
   "cell_type": "code",
   "execution_count": null,
   "metadata": {},
   "outputs": [],
   "source": [
    "%time _x, _y = ppt1[0]\n",
    "\n",
    "print(_y)"
   ]
  },
  {
   "cell_type": "code",
   "execution_count": null,
   "metadata": {},
   "outputs": [],
   "source": [
    "y_hat = model.predict(_x)\n",
    "\n",
    "print(y_hat.mean(axis=0))"
   ]
  },
  {
   "cell_type": "code",
   "execution_count": null,
   "metadata": {},
   "outputs": [],
   "source": [
    "np.any(np.isnan(model.layers[0].weights[0].numpy()))"
   ]
  },
  {
   "cell_type": "code",
   "execution_count": 30,
   "metadata": {},
   "outputs": [],
   "source": [
    "k = np.vstack([ppt1[i][1] for i in range(40)])"
   ]
  },
  {
   "cell_type": "code",
   "execution_count": 35,
   "metadata": {},
   "outputs": [
    {
     "data": {
      "image/png": "[encoded data removed]",
      "text/plain": [
       "<Figure size 432x288 with 1 Axes>"
      ]
     },
     "metadata": {
      "needs_background": "light"
     },
     "output_type": "display_data"
    }
   ],
   "source": [
    "plt.plot(10 ** k.mean(0))\n",
    "plt.show()"
   ]
  },
  {
   "cell_type": "code",
   "execution_count": null,
   "metadata": {},
   "outputs": [],
   "source": []
  }
 ],
 "metadata": {
  "kernelspec": {
   "display_name": "Python 3",
   "language": "python",
   "name": "python3"
  },
  "language_info": {
   "codemirror_mode": {
    "name": "ipython",
    "version": 3
   },
   "file_extension": ".py",
   "mimetype": "text/x-python",
   "name": "python",
   "nbconvert_exporter": "python",
   "pygments_lexer": "ipython3",
   "version": "3.7.4"
  }
 },
 "nbformat": 4,
 "nbformat_minor": 4
}
