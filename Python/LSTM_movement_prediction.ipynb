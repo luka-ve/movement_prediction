{
 "cells": [
  {
   "cell_type": "code",
   "execution_count": 1,
   "metadata": {},
   "outputs": [],
   "source": [
    "import glob\n",
    "import random\n",
    "import h5py\n",
    "import numpy as np\n",
    "import math"
   ]
  },
  {
   "cell_type": "markdown",
   "metadata": {},
   "source": [
    "Find data files recursively from root folder."
   ]
  },
  {
   "cell_type": "code",
   "execution_count": 2,
   "metadata": {},
   "outputs": [],
   "source": [
    "data_path = \"D:/Coding/Thesis/Data/STFT Output/**/*.h5\"\n",
    "data_files = glob.glob(data_path, recursive=True)"
   ]
  },
  {
   "cell_type": "code",
   "execution_count": 12,
   "metadata": {},
   "outputs": [],
   "source": [
    "config = {}\n",
    "\n",
    "config['EEG_window_length_in_ms'] = 30000"
   ]
  },
  {
   "cell_type": "markdown",
   "metadata": {},
   "source": [
    "Next, we configure the output layer of the LSTM:\n",
    "\n",
    "\n",
    "`delta_time_k` predicts the delta time to the next $k^{th}$ tap.\n",
    "\n",
    "`tap_count_times` predicts the *number of taps* within the next $p$ seconds."
   ]
  },
  {
   "cell_type": "code",
   "execution_count": 21,
   "metadata": {},
   "outputs": [],
   "source": [
    "config['delta_time_k'] = [1, 2, 3, 4, 5, 6, 7, 8, 9, 10]\n",
    "config['tap_count_times_p'] = [0.5, 1, 5, 10, 50, 100, 500]\n",
    "\n",
    "config['EEG_sampling_rate'] = 1000\n",
    "config['stft_stride'] = 32\n",
    "config['sampling_rate_after_stft'] = config['EEG_sampling_rate'] / config['stft_stride']\n",
    "config['sample_length_after_stft'] = 1000 / config['sampling_rate_after_stft']\n",
    "\n",
    "config['tap_count_times_in_samples'] = np.multiply(config['tap_count_times_p'], config['EEG_sampling_rate'])"
   ]
  },
  {
   "cell_type": "markdown",
   "metadata": {},
   "source": [
    "The ParticipantData class contains and acts on participant data. It knows about the structure of the h5 files and can return random windows of EEG activity and taps, i.e., training data.\n",
    "\n",
    "The stft data in the h5 files is 3-dimensional:\n",
    "1. Frequency bins\n",
    "2. EEG timeseries\n",
    "3. EEG channel"
   ]
  },
  {
   "cell_type": "code",
   "execution_count": 33,
   "metadata": {},
   "outputs": [],
   "source": [
    "class ParticipantData:\n",
    "    def __init__(self, data_files):\n",
    "        self.data_file_paths = data_files\n",
    "        \n",
    "        self.open_h5_files()\n",
    "        \n",
    "        self._generate_group_idx()\n",
    "    \n",
    "    \n",
    "    def _generate_group_idx(self):\n",
    "        self.sessions = [list(participant.keys()) for participant in self.data_files_open]\n",
    "\n",
    "        #windows = [list(participant[session].keys()) for participant in data_files_open for session in list(participant.keys())]\n",
    "        self.windows = []\n",
    "        for participant in self.data_files_open:\n",
    "            for session in list(participant.keys()):\n",
    "                self.windows.append(list(participant[session].keys()))\n",
    "    \n",
    "    \n",
    "    def open_h5_files(self):\n",
    "        self.data_files_open = [h5py.File(f, 'r') for f in self.data_file_paths]\n",
    "    \n",
    "    \n",
    "    def close_h5_files(self):\n",
    "        for f in self.data_files_open:\n",
    "            f.close()\n",
    "        \n",
    "        self.data_files_open = []\n",
    "    \n",
    "    \n",
    "    def get_random_EEG_window(self, window_size):\n",
    "        ppt = random.choice(self.data_files_open)        \n",
    "        session = random.choice(list(ppt.keys()))\n",
    "        activity_window = random.choice(list(ppt[session].keys()))\n",
    "        \n",
    "        window_size_in_samples = window_size / config['stft_stride']\n",
    "        \n",
    "        window_end_idx = np.random.randint(window_size_in_samples, ppt[session][activity_window]['stft'].shape[1])       \n",
    "        window_idx_stft = np.arange(window_end_idx - window_size_in_samples, window_end_idx, dtype=np.int)        \n",
    "        window_end_idx_tap_adjusted = np.ceil(np.array(window_end_idx) * config['sampling_rate_after_stft']).astype(np.int)\n",
    "        \n",
    "        input_data = np.array(ppt[session][activity_window]['stft'][:, window_idx_stft, :][0])        \n",
    "        output_data = self.get_taps_in_window(np.array(ppt[session][activity_window]['taps'], dtype=np.int), window_end_idx_tap_adjusted)\n",
    "                \n",
    "        return(input_data, output_data)\n",
    "    \n",
    "    \n",
    "    def get_taps_in_window(self, taps, window_end):      \n",
    "        tap_deltas = self.get_delta_taps(taps, window_end)\n",
    "        \n",
    "        future_tap_n = self.get_n_future_taps(taps, window_end)\n",
    "        \n",
    "        result = np.concatenate((tap_deltas, future_tap_n))\n",
    "\n",
    "        return(result)\n",
    "    \n",
    "    \n",
    "    def get_delta_taps(self, taps, window_idx):\n",
    "        next_kth_taps = taps[taps > window_idx][:10]\n",
    "        \n",
    "        tap_deltas = next_kth_taps - window_idx\n",
    "        \n",
    "        return(tap_deltas)\n",
    "            \n",
    "    \n",
    "    def get_n_future_taps(self, taps, window_idx):\n",
    "        n_future_taps = np.zeros(len(config['tap_count_times_in_samples']))\n",
    "        \n",
    "        for p_idx, p in enumerate(config['tap_count_times_in_samples']):\n",
    "            n_future_taps[p_idx] = len(\n",
    "                taps[(taps > window_idx) & (taps <= (window_idx + p))])\n",
    "        \n",
    "        return(n_future_taps)"
   ]
  },
  {
   "cell_type": "code",
   "execution_count": 36,
   "metadata": {},
   "outputs": [
    {
     "name": "stdout",
     "output_type": "stream",
     "text": [
      "(10,)\n",
      "(7,)\n",
      "(17,)\n",
      "(938, 32)\n",
      "(17,)\n"
     ]
    }
   ],
   "source": [
    "ppt_data = ParticipantData(data_files)\n",
    "\n",
    "input_layer, output_layer = ppt_data.get_random_EEG_window(config['EEG_window_length_in_ms'])\n",
    "\n",
    "print(input_layer.shape)\n",
    "print(output_layer.shape)"
   ]
  },
  {
   "cell_type": "code",
   "execution_count": 37,
   "metadata": {},
   "outputs": [
    {
     "name": "stdout",
     "output_type": "stream",
     "text": [
      "(10,)\n",
      "(7,)\n",
      "(17,)\n",
      "Wall time: 1.14 s\n"
     ]
    },
    {
     "data": {
      "text/plain": [
       "(array([[ 10.06532955,  10.61457825,  11.88332844, ..., -12.61561871,\n",
       "         -13.55403137, -14.27822208],\n",
       "        [ 10.2015419 ,  10.16027832,  11.54461479, ..., -11.87997818,\n",
       "         -12.54148769, -12.89192772],\n",
       "        [ 10.91590595,   9.6346302 ,  11.46984577, ..., -11.72691727,\n",
       "         -11.89600754, -11.95673466],\n",
       "        ...,\n",
       "        [  8.68409538,   9.79296494,  11.8128233 , ..., -11.53281307,\n",
       "         -11.80125618, -11.90323925],\n",
       "        [  9.79301739,   9.89943504,  11.96513462, ..., -12.30611515,\n",
       "         -12.91157818, -13.19223213],\n",
       "        [  8.65023327,   9.7555151 ,  11.95156956, ..., -13.12178612,\n",
       "         -14.16552734, -15.17259979]]),\n",
       " array([8.9200e+02, 2.3960e+03, 3.1460e+03, 3.8580e+03, 7.0200e+03,\n",
       "        8.0400e+03, 8.8300e+03, 9.5010e+03, 1.0846e+04, 1.2030e+04,\n",
       "        0.0000e+00, 1.0000e+00, 4.0000e+00, 8.0000e+00, 4.6000e+01,\n",
       "        7.4000e+01, 3.1900e+02]))"
      ]
     },
     "execution_count": 37,
     "metadata": {},
     "output_type": "execute_result"
    }
   ],
   "source": [
    "%time ppt_data.get_random_EEG_window(config['EEG_window_length_in_ms'])"
   ]
  },
  {
   "cell_type": "code",
   "execution_count": 11,
   "metadata": {},
   "outputs": [
    {
     "name": "stdout",
     "output_type": "stream",
     "text": [
      "3112552\n",
      "98203\n"
     ]
    }
   ],
   "source": [
    "f = h5py.File(data_files[0], 'r')\n",
    "\n",
    "list(f['12_02_11_04_19']['window_1'].keys())\n",
    "\n",
    "print(f['12_02_11_04_19']['window_1']['taps'][:, -1][0])\n",
    "print(f['12_02_11_04_19']['window_1']['stft'].shape[1])"
   ]
  },
  {
   "cell_type": "markdown",
   "metadata": {},
   "source": [
    "Close h5 files again."
   ]
  },
  {
   "cell_type": "code",
   "execution_count": 107,
   "metadata": {},
   "outputs": [],
   "source": [
    "ppt_data.close_h5_files()"
   ]
  },
  {
   "cell_type": "code",
   "execution_count": null,
   "metadata": {},
   "outputs": [],
   "source": []
  }
 ],
 "metadata": {
  "kernelspec": {
   "display_name": "Python 3",
   "language": "python",
   "name": "python3"
  },
  "language_info": {
   "codemirror_mode": {
    "name": "ipython",
    "version": 3
   },
   "file_extension": ".py",
   "mimetype": "text/x-python",
   "name": "python",
   "nbconvert_exporter": "python",
   "pygments_lexer": "ipython3",
   "version": "3.7.4"
  }
 },
 "nbformat": 4,
 "nbformat_minor": 4
}
