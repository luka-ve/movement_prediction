{
 "cells": [
  {
   "cell_type": "code",
   "execution_count": 9,
   "metadata": {},
   "outputs": [],
   "source": [
    "import glob\n",
    "import random\n",
    "import h5py\n",
    "import numpy as np\n",
    "import math"
   ]
  },
  {
   "cell_type": "markdown",
   "metadata": {},
   "source": [
    "Find data files recursively from root folder."
   ]
  },
  {
   "cell_type": "code",
   "execution_count": 10,
   "metadata": {},
   "outputs": [],
   "source": [
    "data_path = \"D:/Coding/Thesis/Data/STFT Output/**/*.h5\"\n",
    "data_files = glob.glob(data_path, recursive=True)"
   ]
  },
  {
   "cell_type": "code",
   "execution_count": 11,
   "metadata": {},
   "outputs": [],
   "source": [
    "config = {}\n",
    "\n",
    "config['EEG_window_length_in_ms'] = 30000"
   ]
  },
  {
   "cell_type": "markdown",
   "metadata": {},
   "source": [
    "Next, we configure the output layer of the LSTM:\n",
    "\n",
    "\n",
    "`delta_time_k` predicts the delta time to the next $k^{th}$ tap.\n",
    "\n",
    "`tap_count_times` predicts the *number of taps* within the next $p$ seconds."
   ]
  },
  {
   "cell_type": "code",
   "execution_count": 12,
   "metadata": {},
   "outputs": [],
   "source": [
    "config['delta_time_k'] = np.array([1, 2, 3, 4, 5, 6, 7, 8, 9, 10])\n",
    "config['tap_count_times_p'] = np.array([0.5, 1, 5, 10, 50, 100, 500])\n",
    "\n",
    "config['EEG_sampling_rate'] = 1000\n",
    "config['stft_stride'] = 32\n",
    "config['sampling_rate_after_stft'] = config['EEG_sampling_rate'] / config['stft_stride']\n",
    "config['sample_length_after_stft'] = 1000 / config['sampling_rate_after_stft']\n",
    "\n",
    "config['tap_count_times_in_samples'] = np.multiply(config['tap_count_times_p'], config['EEG_sampling_rate'])"
   ]
  },
  {
   "cell_type": "markdown",
   "metadata": {},
   "source": [
    "# The ParticipantData class\n",
    "The ParticipantData class contains and acts on participant data. It knows about the structure of the h5 files and can return random windows of EEG activity and taps, i.e., training data.\n",
    "\n",
    "The stft data in the h5 files is 3-dimensional:\n",
    "1. EEG channel\n",
    "2. EEG timeseries\n",
    "3. STFT frequency bins"
   ]
  },
  {
   "cell_type": "code",
   "execution_count": 22,
   "metadata": {},
   "outputs": [],
   "source": [
    "class ParticipantData:\n",
    "    def __init__(self, data_files):\n",
    "        self.data_file_paths = data_files\n",
    "        \n",
    "        self.open_h5_files()\n",
    "        \n",
    "        self._generate_group_idx()\n",
    "    \n",
    "    \n",
    "    def _generate_group_idx(self):\n",
    "        self.sessions = [list(participant.keys()) for participant in self.data_files_open]\n",
    "\n",
    "        #windows = [list(participant[session].keys()) for participant in data_files_open for session in list(participant.keys())]\n",
    "        self.windows = []\n",
    "        for participant in self.data_files_open:\n",
    "            for session in list(participant.keys()):\n",
    "                self.windows.append(list(participant[session].keys()))\n",
    "    \n",
    "    \n",
    "    def open_h5_files(self):\n",
    "        self.data_files_open = [h5py.File(f, 'r') for f in self.data_file_paths]\n",
    "    \n",
    "    \n",
    "    def close_h5_files(self):\n",
    "        for f in self.data_files_open:\n",
    "            f.close()\n",
    "        \n",
    "        self.data_files_open = []\n",
    "    \n",
    "    \n",
    "    def get_random_EEG_window(self, window_size):\n",
    "        ppt = random.choice(self.data_files_open)        \n",
    "        session = random.choice(list(ppt.keys()))\n",
    "        activity_window = random.choice(list(ppt[session].keys()))\n",
    "        \n",
    "        window_size_in_samples = np.ceil(window_size / config['stft_stride']).astype(np.int)\n",
    "        \n",
    "        window_end_idx = np.random.randint(window_size_in_samples, ppt[session][activity_window]['stft'].shape[1])       \n",
    "        window_idx_stft = np.arange(window_end_idx - window_size_in_samples, window_end_idx, dtype=np.int)        \n",
    "        \n",
    "        input_data = np.array(ppt[session][activity_window]['stft'][:, window_idx_stft, :])\n",
    "        \n",
    "        window_end_idx_tap_adjusted = np.ceil(np.array(window_end_idx) * config['sampling_rate_after_stft']).astype(np.int)\n",
    "        \n",
    "        output_data = self.get_taps_in_window(np.array(ppt[session][activity_window]['taps'], dtype=np.int), window_end_idx_tap_adjusted)\n",
    "                \n",
    "        return(input_data, output_data)\n",
    "    \n",
    "    \n",
    "    def get_taps_in_window(self, taps, window_end):      \n",
    "        tap_deltas = self.get_delta_taps(taps, window_end)\n",
    "        \n",
    "        future_tap_n = self.get_n_future_taps(taps, window_end)\n",
    "        \n",
    "        result = np.concatenate((tap_deltas, future_tap_n))\n",
    "\n",
    "        return(result)\n",
    "    \n",
    "    \n",
    "    def get_delta_taps(self, taps, window_idx):\n",
    "        n_k = len(config['delta_time_k'])\n",
    "        \n",
    "        next_kth_taps = taps[taps > window_idx][:n_k]\n",
    "        \n",
    "        # Ensure that if not enough taps were found the array is padded with 0s.\n",
    "        # This only occurs \n",
    "        if len(next_kth_taps) < n_k:\n",
    "            next_kth_taps = np.concatenate((next_kth_taps, np.zeros(n_k - len(next_kth_taps))))\n",
    "        \n",
    "        tap_deltas = next_kth_taps - window_idx\n",
    "        \n",
    "        return(tap_deltas)\n",
    "            \n",
    "    \n",
    "    def get_n_future_taps(self, taps, window_idx):\n",
    "        n_future_taps = np.zeros(len(config['tap_count_times_in_samples']))\n",
    "        \n",
    "        for p_idx, p in enumerate(config['tap_count_times_in_samples']):\n",
    "            n_future_taps[p_idx] = len(\n",
    "                taps[\n",
    "                    (taps > window_idx) &\n",
    "                    (taps <= (window_idx + p))\n",
    "                ]\n",
    "            )\n",
    "        \n",
    "        return(n_future_taps)"
   ]
  },
  {
   "cell_type": "code",
   "execution_count": 23,
   "metadata": {},
   "outputs": [],
   "source": [
    "ppt_data = ParticipantData(data_files)"
   ]
  },
  {
   "cell_type": "markdown",
   "metadata": {},
   "source": [
    "# Determining the in- and outputs of the LSTM\n",
    "Next, we check the sizes that are returned by our data generation function."
   ]
  },
  {
   "cell_type": "code",
   "execution_count": 24,
   "metadata": {},
   "outputs": [
    {
     "name": "stdout",
     "output_type": "stream",
     "text": [
      "Input layer shape: (64, 938, 32)\n",
      "Output layer shape: (17,)\n"
     ]
    }
   ],
   "source": [
    "input_layer, output_layer = ppt_data.get_random_EEG_window(config['EEG_window_length_in_ms'])\n",
    "\n",
    "print(f\"Input layer shape: {input_layer.shape}\")\n",
    "print(f\"Output layer shape: {output_layer.shape}\")"
   ]
  },
  {
   "cell_type": "markdown",
   "metadata": {},
   "source": [
    "## Input layer\n",
    "The ParticipantData class generates an input information that is $64 \\times 938 \\times 32$ in size. Since the second dimension is the temporal information, the LSTM's input layer has the a size of $64 \\times 32 = 2048$ and takes a window of 938 samples at a time.\n",
    "\n",
    "This conversion from window length in ms to window length in samples can be calculated by the following formula:\n",
    "\n",
    "$$\n",
    "\\bigl\\lceil\n",
    "\\frac{\\frac{\\text{T}}{1000} \\text{Fs}}\n",
    "{\\text{R}}\n",
    "\\bigr\\rceil\n",
    "$$\n",
    "\n",
    ", where $T$ is the window length in ms, $Fs$ is the original sampling rate, and $R$ is the hopsize of the STFT.\n",
    "\n",
    "## Output layer\n",
    "The ParticipantData class also generates training output. The output layer has a length of 17. It is composed of the delta times to the next $k$ steps and the number of taps within the next $p$ seconds. Which and how many $k$ and $p$ are predicted is defined in the config dictionary at the top of the file. The size of the output layer is defined as $|K| + |P|$"
   ]
  },
  {
   "cell_type": "code",
   "execution_count": 8,
   "metadata": {},
   "outputs": [
    {
     "name": "stdout",
     "output_type": "stream",
     "text": [
      "3112552\n",
      "(64, 98203, 32)\n"
     ]
    }
   ],
   "source": [
    "f = h5py.File(data_files[0], 'r')\n",
    "\n",
    "list(f['12_02_11_04_19']['window_1'].keys())\n",
    "\n",
    "print(f['12_02_11_04_19']['window_1']['taps'][:, -1][0])\n",
    "print(f['12_02_11_04_19']['window_1']['stft'].shape)"
   ]
  },
  {
   "cell_type": "markdown",
   "metadata": {},
   "source": [
    "Close h5 files again."
   ]
  },
  {
   "cell_type": "code",
   "execution_count": 56,
   "metadata": {},
   "outputs": [],
   "source": [
    "ppt_data.close_h5_files()"
   ]
  }
 ],
 "metadata": {
  "kernelspec": {
   "display_name": "Python 3",
   "language": "python",
   "name": "python3"
  },
  "language_info": {
   "codemirror_mode": {
    "name": "ipython",
    "version": 3
   },
   "file_extension": ".py",
   "mimetype": "text/x-python",
   "name": "python",
   "nbconvert_exporter": "python",
   "pygments_lexer": "ipython3",
   "version": "3.7.4"
  }
 },
 "nbformat": 4,
 "nbformat_minor": 4
}
