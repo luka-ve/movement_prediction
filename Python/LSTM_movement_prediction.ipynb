{
 "cells": [
  {
   "cell_type": "code",
   "execution_count": 3,
   "metadata": {},
   "outputs": [],
   "source": [
    "import glob\n",
    "import random\n",
    "import h5py\n",
    "import numpy as np"
   ]
  },
  {
   "cell_type": "markdown",
   "metadata": {},
   "source": [
    "Find data files recursively from root folder."
   ]
  },
  {
   "cell_type": "code",
   "execution_count": 4,
   "metadata": {},
   "outputs": [],
   "source": [
    "data_path = \"D:/Coding/Thesis/Data/STFT Output/**/*.h5\"\n",
    "data_files = glob.glob(data_path, recursive=True)"
   ]
  },
  {
   "cell_type": "code",
   "execution_count": 5,
   "metadata": {},
   "outputs": [],
   "source": [
    "config = {}\n",
    "\n",
    "config['EEG_window_length_in_samples'] = 30000"
   ]
  },
  {
   "cell_type": "markdown",
   "metadata": {},
   "source": [
    "Next, we configure the output layer of the LSTM:\n",
    "\n",
    "\n",
    "`delta_time_k` predicts the delta time to the next $k^{th}$ tap.\n",
    "\n",
    "`tap_count_times` predicts the *number of taps* within the next $p$ seconds."
   ]
  },
  {
   "cell_type": "code",
   "execution_count": 6,
   "metadata": {},
   "outputs": [],
   "source": [
    "config['delta_time_k'] = [1, 2, 3, 4, 5, 6, 7, 8, 9, 10]\n",
    "config['tap_count_times_p'] = [0.5, 1, 5, 10, 50, 100, 500]\n",
    "config['EEG_sampling_rate'] = 1000\n",
    "\n",
    "config['tap_count_times_in_samples'] = np.multiply(config['tap_count_times_p'], config['EEG_sampling_rate'])"
   ]
  },
  {
   "cell_type": "markdown",
   "metadata": {},
   "source": [
    "The ParticipantData class contains and acts on participant data. It knows about the structure of the h5 files and can return random windows of EEG activity and taps."
   ]
  },
  {
   "cell_type": "code",
   "execution_count": null,
   "metadata": {},
   "outputs": [],
   "source": [
    "class ParticipantData:\n",
    "    def __init__(self, data_files):\n",
    "        self.data_file_paths = data_files\n",
    "        \n",
    "        self.open_h5_files()\n",
    "        \n",
    "        self._generate_group_idx()\n",
    "    \n",
    "    \n",
    "    def _generate_group_idx(self):\n",
    "        self.sessions = [list(participant.keys()) for participant in self.data_files_open]\n",
    "\n",
    "        #windows = [list(participant[session].keys()) for participant in data_files_open for session in list(participant.keys())]\n",
    "        self.windows = []\n",
    "        for participant in self.data_files_open:\n",
    "            for session in list(participant.keys()):\n",
    "                self.windows.append(list(participant[session].keys()))\n",
    "    \n",
    "    \n",
    "    def open_h5_files(self):\n",
    "        self.data_files_open = [h5py.File(f, 'r') for f in self.data_file_paths]\n",
    "    \n",
    "    \n",
    "    def close_h5_files(self):\n",
    "        for f in self.data_files_open:\n",
    "            f.close()\n",
    "        \n",
    "        self.data_files_open = []\n",
    "    \n",
    "    \n",
    "    def get_random_EEG_window(self, window_size):\n",
    "        ppt = random.choice(self.data_files_open)        \n",
    "        session = random.choice(list(ppt.keys()))\n",
    "        activity_window = random.choice(list(ppt[session].keys()))\n",
    "        \n",
    "        window_start_idx = random.randrange(ppt[session][activity_window]['stft'].shape[0] - window_size)        \n",
    "        window_idx = range(window_start_idx, window_start_idx + window_size)\n",
    "        \n",
    "        input_data = np.array(ppt[session][activity_window]['stft'][window_idx, :, :][0])        \n",
    "        output_data = self.get_taps_in_window(ppt[session][activity_window]['taps'], window_idx)\n",
    "                \n",
    "        return(input_data, output_data)\n",
    "    \n",
    "    \n",
    "    def get_taps_in_window(self, taps, window_idx):      \n",
    "        tap_deltas = self.get_delta_taps(taps, window_idx)\n",
    "        future_tap_n = self.get_n_future_taps(taps, window_idx)\n",
    "        \n",
    "        result = np.concatenate(tap_deltas, future_tap_n)\n",
    "\n",
    "        return(result)\n",
    "    \n",
    "    def get_delta_taps(self, taps, window_idx):\n",
    "        tap_deltas = np.zeros([len(config['delta_time_k']), len(window_idx)])\n",
    "        #print(taps[0])\n",
    "        \n",
    "        for k_idx, k in enumerate(config['delta_time_k']):\n",
    "            for sample_idx, sample_ in enumerate(window_idx):\n",
    "                _next_kth_tap = next((tap for tap in taps[0] if tap > sample_), None)\n",
    "                _delta = _next_kth_tap - sample_\n",
    "                tap_deltas[k_idx, sample_idx] = _delta\n",
    "        \n",
    "        return(tap_deltas)\n",
    "            \n",
    "    \n",
    "    def get_n_future_taps(self, taps, window_idx):\n",
    "        tap_counts = np.zeros([len(config['delta_time_k']), window_idx.shape[0]])\n",
    "        \n",
    "        for p_idx, p in enumerate(config['tap_count_times_in_samples']):\n",
    "            for sample_idx, sample_ in enumerate(window_idx):\n",
    "                _future_taps = np.logical_and(tap > sample_, tap <= sample_ + p)\n",
    "                _n_future_taps = np.sum(_future_taps)\n",
    "                \n",
    "                tap_counts[p_idx, sample_idx] = _n_future_taps\n",
    "        \n",
    "        return(tap_counts)"
   ]
  },
  {
   "cell_type": "code",
   "execution_count": null,
   "metadata": {},
   "outputs": [],
   "source": [
    "ppt_data = ParticipantData(data_files)"
   ]
  },
  {
   "cell_type": "code",
   "execution_count": 49,
   "metadata": {},
   "outputs": [
    {
     "ename": "AttributeError",
     "evalue": "'range' object has no attribute 'shape'",
     "output_type": "error",
     "traceback": [
      "\u001b[1;31m---------------------------------------------------------------------------\u001b[0m",
      "\u001b[1;31mAttributeError\u001b[0m                            Traceback (most recent call last)",
      "\u001b[1;32m<ipython-input-49-796086ad5fa1>\u001b[0m in \u001b[0;36m<module>\u001b[1;34m\u001b[0m\n\u001b[1;32m----> 1\u001b[1;33m \u001b[0minput_layer\u001b[0m\u001b[1;33m,\u001b[0m \u001b[0moutput_layer\u001b[0m \u001b[1;33m=\u001b[0m \u001b[0mppt_data\u001b[0m\u001b[1;33m.\u001b[0m\u001b[0mget_random_EEG_window\u001b[0m\u001b[1;33m(\u001b[0m\u001b[0mconfig\u001b[0m\u001b[1;33m[\u001b[0m\u001b[1;34m'EEG_window_length_in_samples'\u001b[0m\u001b[1;33m]\u001b[0m\u001b[1;33m)\u001b[0m\u001b[1;33m\u001b[0m\u001b[1;33m\u001b[0m\u001b[0m\n\u001b[0m\u001b[0;32m      2\u001b[0m \u001b[1;33m\u001b[0m\u001b[0m\n\u001b[0;32m      3\u001b[0m \u001b[0mprint\u001b[0m\u001b[1;33m(\u001b[0m\u001b[0minput_layer\u001b[0m\u001b[1;33m.\u001b[0m\u001b[0mshape\u001b[0m\u001b[1;33m)\u001b[0m\u001b[1;33m\u001b[0m\u001b[1;33m\u001b[0m\u001b[0m\n\u001b[0;32m      4\u001b[0m \u001b[0mprint\u001b[0m\u001b[1;33m(\u001b[0m\u001b[0moutput_layer\u001b[0m\u001b[1;33m.\u001b[0m\u001b[0mshape\u001b[0m\u001b[1;33m)\u001b[0m\u001b[1;33m\u001b[0m\u001b[1;33m\u001b[0m\u001b[0m\n",
      "\u001b[1;32m<ipython-input-46-e0169cc1f8c8>\u001b[0m in \u001b[0;36mget_random_EEG_window\u001b[1;34m(self, window_size)\u001b[0m\n\u001b[0;32m     38\u001b[0m \u001b[1;33m\u001b[0m\u001b[0m\n\u001b[0;32m     39\u001b[0m         \u001b[0minput_data\u001b[0m \u001b[1;33m=\u001b[0m \u001b[0mnp\u001b[0m\u001b[1;33m.\u001b[0m\u001b[0marray\u001b[0m\u001b[1;33m(\u001b[0m\u001b[0mppt\u001b[0m\u001b[1;33m[\u001b[0m\u001b[0msession\u001b[0m\u001b[1;33m]\u001b[0m\u001b[1;33m[\u001b[0m\u001b[0mactivity_window\u001b[0m\u001b[1;33m]\u001b[0m\u001b[1;33m[\u001b[0m\u001b[1;34m'stft'\u001b[0m\u001b[1;33m]\u001b[0m\u001b[1;33m[\u001b[0m\u001b[0mwindow_idx\u001b[0m\u001b[1;33m,\u001b[0m \u001b[1;33m:\u001b[0m\u001b[1;33m,\u001b[0m \u001b[1;33m:\u001b[0m\u001b[1;33m]\u001b[0m\u001b[1;33m[\u001b[0m\u001b[1;36m0\u001b[0m\u001b[1;33m]\u001b[0m\u001b[1;33m)\u001b[0m\u001b[1;33m\u001b[0m\u001b[1;33m\u001b[0m\u001b[0m\n\u001b[1;32m---> 40\u001b[1;33m         \u001b[0moutput_data\u001b[0m \u001b[1;33m=\u001b[0m \u001b[0mself\u001b[0m\u001b[1;33m.\u001b[0m\u001b[0mget_taps_in_window\u001b[0m\u001b[1;33m(\u001b[0m\u001b[0mppt\u001b[0m\u001b[1;33m[\u001b[0m\u001b[0msession\u001b[0m\u001b[1;33m]\u001b[0m\u001b[1;33m[\u001b[0m\u001b[0mactivity_window\u001b[0m\u001b[1;33m]\u001b[0m\u001b[1;33m[\u001b[0m\u001b[1;34m'taps'\u001b[0m\u001b[1;33m]\u001b[0m\u001b[1;33m,\u001b[0m \u001b[0mwindow_idx\u001b[0m\u001b[1;33m)\u001b[0m\u001b[1;33m\u001b[0m\u001b[1;33m\u001b[0m\u001b[0m\n\u001b[0m\u001b[0;32m     41\u001b[0m \u001b[1;33m\u001b[0m\u001b[0m\n\u001b[0;32m     42\u001b[0m         \u001b[1;32mreturn\u001b[0m\u001b[1;33m(\u001b[0m\u001b[0minput_data\u001b[0m\u001b[1;33m,\u001b[0m \u001b[0moutput_data\u001b[0m\u001b[1;33m)\u001b[0m\u001b[1;33m\u001b[0m\u001b[1;33m\u001b[0m\u001b[0m\n",
      "\u001b[1;32m<ipython-input-46-e0169cc1f8c8>\u001b[0m in \u001b[0;36mget_taps_in_window\u001b[1;34m(self, taps, window_idx)\u001b[0m\n\u001b[0;32m     45\u001b[0m     \u001b[1;32mdef\u001b[0m \u001b[0mget_taps_in_window\u001b[0m\u001b[1;33m(\u001b[0m\u001b[0mself\u001b[0m\u001b[1;33m,\u001b[0m \u001b[0mtaps\u001b[0m\u001b[1;33m,\u001b[0m \u001b[0mwindow_idx\u001b[0m\u001b[1;33m)\u001b[0m\u001b[1;33m:\u001b[0m\u001b[1;33m\u001b[0m\u001b[1;33m\u001b[0m\u001b[0m\n\u001b[0;32m     46\u001b[0m         \u001b[0mtap_deltas\u001b[0m \u001b[1;33m=\u001b[0m \u001b[0mself\u001b[0m\u001b[1;33m.\u001b[0m\u001b[0mget_delta_taps\u001b[0m\u001b[1;33m(\u001b[0m\u001b[0mtaps\u001b[0m\u001b[1;33m,\u001b[0m \u001b[0mwindow_idx\u001b[0m\u001b[1;33m)\u001b[0m\u001b[1;33m\u001b[0m\u001b[1;33m\u001b[0m\u001b[0m\n\u001b[1;32m---> 47\u001b[1;33m         \u001b[0mfuture_tap_n\u001b[0m \u001b[1;33m=\u001b[0m \u001b[0mself\u001b[0m\u001b[1;33m.\u001b[0m\u001b[0mget_n_future_taps\u001b[0m\u001b[1;33m(\u001b[0m\u001b[0mtaps\u001b[0m\u001b[1;33m,\u001b[0m \u001b[0mwindow_idx\u001b[0m\u001b[1;33m)\u001b[0m\u001b[1;33m\u001b[0m\u001b[1;33m\u001b[0m\u001b[0m\n\u001b[0m\u001b[0;32m     48\u001b[0m \u001b[1;33m\u001b[0m\u001b[0m\n\u001b[0;32m     49\u001b[0m         \u001b[0mresult\u001b[0m \u001b[1;33m=\u001b[0m \u001b[0mnp\u001b[0m\u001b[1;33m.\u001b[0m\u001b[0mconcatenate\u001b[0m\u001b[1;33m(\u001b[0m\u001b[0mtap_deltas\u001b[0m\u001b[1;33m,\u001b[0m \u001b[0mfuture_tap_n\u001b[0m\u001b[1;33m)\u001b[0m\u001b[1;33m\u001b[0m\u001b[1;33m\u001b[0m\u001b[0m\n",
      "\u001b[1;32m<ipython-input-46-e0169cc1f8c8>\u001b[0m in \u001b[0;36mget_n_future_taps\u001b[1;34m(self, taps, window_idx)\u001b[0m\n\u001b[0;32m     65\u001b[0m \u001b[1;33m\u001b[0m\u001b[0m\n\u001b[0;32m     66\u001b[0m     \u001b[1;32mdef\u001b[0m \u001b[0mget_n_future_taps\u001b[0m\u001b[1;33m(\u001b[0m\u001b[0mself\u001b[0m\u001b[1;33m,\u001b[0m \u001b[0mtaps\u001b[0m\u001b[1;33m,\u001b[0m \u001b[0mwindow_idx\u001b[0m\u001b[1;33m)\u001b[0m\u001b[1;33m:\u001b[0m\u001b[1;33m\u001b[0m\u001b[1;33m\u001b[0m\u001b[0m\n\u001b[1;32m---> 67\u001b[1;33m         \u001b[0mtap_counts\u001b[0m \u001b[1;33m=\u001b[0m \u001b[0mnp\u001b[0m\u001b[1;33m.\u001b[0m\u001b[0mzeros\u001b[0m\u001b[1;33m(\u001b[0m\u001b[1;33m[\u001b[0m\u001b[0mlen\u001b[0m\u001b[1;33m(\u001b[0m\u001b[0mconfig\u001b[0m\u001b[1;33m[\u001b[0m\u001b[1;34m'delta_time_k'\u001b[0m\u001b[1;33m]\u001b[0m\u001b[1;33m)\u001b[0m\u001b[1;33m,\u001b[0m \u001b[0mwindow_idx\u001b[0m\u001b[1;33m.\u001b[0m\u001b[0mshape\u001b[0m\u001b[1;33m[\u001b[0m\u001b[1;36m0\u001b[0m\u001b[1;33m]\u001b[0m\u001b[1;33m]\u001b[0m\u001b[1;33m)\u001b[0m\u001b[1;33m\u001b[0m\u001b[1;33m\u001b[0m\u001b[0m\n\u001b[0m\u001b[0;32m     68\u001b[0m \u001b[1;33m\u001b[0m\u001b[0m\n\u001b[0;32m     69\u001b[0m         \u001b[1;32mfor\u001b[0m \u001b[0mp_idx\u001b[0m\u001b[1;33m,\u001b[0m \u001b[0mp\u001b[0m \u001b[1;32min\u001b[0m \u001b[0menumerate\u001b[0m\u001b[1;33m(\u001b[0m\u001b[0mconfig\u001b[0m\u001b[1;33m[\u001b[0m\u001b[1;34m'tap_count_times_in_samples'\u001b[0m\u001b[1;33m]\u001b[0m\u001b[1;33m)\u001b[0m\u001b[1;33m:\u001b[0m\u001b[1;33m\u001b[0m\u001b[1;33m\u001b[0m\u001b[0m\n",
      "\u001b[1;31mAttributeError\u001b[0m: 'range' object has no attribute 'shape'"
     ]
    }
   ],
   "source": [
    "input_layer, output_layer = ppt_data.get_random_EEG_window(config['EEG_window_length_in_samples'])\n",
    "\n",
    "print(input_layer.shape)\n",
    "print(output_layer.shape)"
   ]
  },
  {
   "cell_type": "markdown",
   "metadata": {},
   "source": [
    "Assign real and imaginary part of stft output separately to new numpy array."
   ]
  },
  {
   "cell_type": "code",
   "execution_count": 45,
   "metadata": {},
   "outputs": [
    {
     "name": "stdout",
     "output_type": "stream",
     "text": [
      "3112552\n",
      "3142553\n"
     ]
    }
   ],
   "source": [
    "f = h5py.File(data_files[0], 'r')\n",
    "\n",
    "list(f['12_02_11_04_19']['window_1'].keys())\n",
    "\n",
    "print(f['12_02_11_04_19']['window_1']['taps'][:, -1][0])\n",
    "print(f['12_02_11_04_19']['window_1']['stft'].shape[0])"
   ]
  },
  {
   "cell_type": "markdown",
   "metadata": {},
   "source": [
    "Close h5 files again."
   ]
  },
  {
   "cell_type": "code",
   "execution_count": 50,
   "metadata": {},
   "outputs": [],
   "source": [
    "ppt_data.close_h5_files()"
   ]
  }
 ],
 "metadata": {
  "kernelspec": {
   "display_name": "Python 3",
   "language": "python",
   "name": "python3"
  },
  "language_info": {
   "codemirror_mode": {
    "name": "ipython",
    "version": 3
   },
   "file_extension": ".py",
   "mimetype": "text/x-python",
   "name": "python",
   "nbconvert_exporter": "python",
   "pygments_lexer": "ipython3",
   "version": "3.7.4"
  }
 },
 "nbformat": 4,
 "nbformat_minor": 4
}
