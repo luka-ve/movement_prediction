{
 "cells": [
  {
   "cell_type": "code",
   "execution_count": 134,
   "metadata": {},
   "outputs": [],
   "source": [
    "import glob\n",
    "import random\n",
    "import h5py\n",
    "import numpy as np"
   ]
  },
  {
   "cell_type": "markdown",
   "metadata": {},
   "source": [
    "Find data files recursively from root folder."
   ]
  },
  {
   "cell_type": "code",
   "execution_count": 135,
   "metadata": {},
   "outputs": [],
   "source": [
    "data_path = \"D:/Coding/Thesis/Data/STFT Output/**/*.h5\"\n",
    "    \n",
    "data_files = glob.glob(data_path, recursive=True)"
   ]
  },
  {
   "cell_type": "code",
   "execution_count": 136,
   "metadata": {},
   "outputs": [],
   "source": [
    "config = {}\n",
    "\n",
    "config['EEG_window_length_in_samples'] = 30000"
   ]
  },
  {
   "cell_type": "markdown",
   "metadata": {},
   "source": [
    "The ParticipantData class contains and acts on participant data. It knows about the structure of the h5 files and can return random windows of EEG activity."
   ]
  },
  {
   "cell_type": "code",
   "execution_count": 139,
   "metadata": {},
   "outputs": [],
   "source": [
    "class ParticipantData:\n",
    "    def __init__(self, data_files):\n",
    "        self.data_file_paths = data_files\n",
    "        self.data_files_open = [h5py.File(f, 'r') for f in data_files]\n",
    "        \n",
    "        self._generate_group_idx()\n",
    "        \n",
    "    def _generate_group_idx(self):\n",
    "        self.sessions = [list(participant.keys()) for participant in data_files_open]\n",
    "\n",
    "        #windows = [list(participant[session].keys()) for participant in data_files_open for session in list(participant.keys())]\n",
    "        self.windows = []\n",
    "        for participant in data_files_open:\n",
    "            for session in list(participant.keys()):\n",
    "                self.windows.append(list(participant[session].keys()))\n",
    "        \n",
    "        \n",
    "    def get_random_EEG_window(self):\n",
    "        ppt = random.choice(self.data_files_open)        \n",
    "        session = random.choice(list(ppt.keys()))\n",
    "        activity_window = random.choice(list(ppt[session].keys()))\n",
    "        \n",
    "        window_start_idx = random.randrange(ppt[session][activity_window]['stft'].shape[0] - config['EEG_window_length_in_samples'])\n",
    "        \n",
    "        window_idx = range(window_start_idx, window_start_idx + config['EEG_window_length_in_samples'])\n",
    "        \n",
    "        return(ppt[session][activity_window]['stft'][window_idx, :, :])"
   ]
  },
  {
   "cell_type": "code",
   "execution_count": 133,
   "metadata": {},
   "outputs": [
    {
     "data": {
      "text/plain": [
       "array([[[8.25267315, 6.17896843, 7.50651646, ..., 3.8706286 ,\n",
       "         4.69147062, 4.432796  ]],\n",
       "\n",
       "       [[8.61274433, 6.33944178, 7.28140354, ..., 3.49598718,\n",
       "         4.94693279, 4.80491447]],\n",
       "\n",
       "       [[8.86234283, 6.47374296, 7.11154604, ..., 3.22664547,\n",
       "         5.13774443, 5.09185743]],\n",
       "\n",
       "       ...,\n",
       "\n",
       "       [[9.53063202, 6.14846659, 7.82420588, ..., 5.76176023,\n",
       "         4.90602875, 1.8716737 ]],\n",
       "\n",
       "       [[9.49414158, 6.03139067, 7.6897893 , ..., 5.95672798,\n",
       "         5.14104986, 2.61291146]],\n",
       "\n",
       "       [[9.39242363, 5.8988986 , 7.43580103, ..., 6.0697999 ,\n",
       "         5.24466228, 2.81811571]]])"
      ]
     },
     "execution_count": 133,
     "metadata": {},
     "output_type": "execute_result"
    }
   ],
   "source": [
    "ppt_data = ParticipantData(data_files)"
   ]
  },
  {
   "cell_type": "code",
   "execution_count": null,
   "metadata": {},
   "outputs": [],
   "source": [
    "ppt_data.get_random_EEG_window()"
   ]
  },
  {
   "cell_type": "markdown",
   "metadata": {},
   "source": [
    "Assign real and imaginary part of stft output separately to new numpy array."
   ]
  },
  {
   "cell_type": "code",
   "execution_count": 91,
   "metadata": {},
   "outputs": [],
   "source": [
    "#df = np.array(f[sessions[0]['window_1']['stft'])"
   ]
  }
 ],
 "metadata": {
  "kernelspec": {
   "display_name": "Python 3",
   "language": "python",
   "name": "python3"
  },
  "language_info": {
   "codemirror_mode": {
    "name": "ipython",
    "version": 3
   },
   "file_extension": ".py",
   "mimetype": "text/x-python",
   "name": "python",
   "nbconvert_exporter": "python",
   "pygments_lexer": "ipython3",
   "version": "3.7.4"
  }
 },
 "nbformat": 4,
 "nbformat_minor": 4
}
