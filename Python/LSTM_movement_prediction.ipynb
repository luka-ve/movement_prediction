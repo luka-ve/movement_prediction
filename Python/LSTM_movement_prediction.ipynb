{
 "cells": [
  {
   "cell_type": "code",
   "execution_count": 21,
   "metadata": {},
   "outputs": [],
   "source": [
    "import glob\n",
    "import h5py\n",
    "import numpy as np"
   ]
  },
  {
   "cell_type": "markdown",
   "metadata": {},
   "source": [
    "Find data files recursively from root folder."
   ]
  },
  {
   "cell_type": "code",
   "execution_count": 8,
   "metadata": {},
   "outputs": [
    {
     "name": "stdout",
     "output_type": "stream",
     "text": [
      "['D:/Coding/Thesis/Data/STFT Output\\\\DS99-08_05_25_04_19.h5', 'D:/Coding/Thesis/Data/STFT Output\\\\DS99-10_19_25_04_19.h5']\n"
     ]
    }
   ],
   "source": [
    "data_path = \"D:/Coding/Thesis/Data/STFT Output/**/*.h5\"\n",
    "    \n",
    "data_files = glob.glob(data_path, recursive=True)\n",
    "\n",
    "print(data_files)"
   ]
  },
  {
   "cell_type": "markdown",
   "metadata": {},
   "source": [
    "Load in data from h5 files.\n",
    "\n",
    "Why is there \\x0 in the name? Hex?"
   ]
  },
  {
   "cell_type": "code",
   "execution_count": 19,
   "metadata": {},
   "outputs": [
    {
     "data": {
      "text/plain": [
       "['stft', 'taps']"
      ]
     },
     "execution_count": 19,
     "metadata": {},
     "output_type": "execute_result"
    }
   ],
   "source": [
    "f = h5py.File(data_files[0], 'r')"
   ]
  },
  {
   "cell_type": "markdown",
   "metadata": {},
   "source": [
    "Assign real and imaginary part of stft output separately to new numpy array."
   ]
  },
  {
   "cell_type": "code",
   "execution_count": 23,
   "metadata": {},
   "outputs": [],
   "source": [
    "df = np.empty(f['window_\\x01']['stft']['real'].shape, 'complex64')\n",
    "\n",
    "df.real = f['window_\\x01']['stft']['real']\n",
    "df.imag = f['window_\\x01']['stft']['imag']"
   ]
  },
  {
   "cell_type": "code",
   "execution_count": null,
   "metadata": {},
   "outputs": [],
   "source": []
  }
 ],
 "metadata": {
  "kernelspec": {
   "display_name": "Python 3",
   "language": "python",
   "name": "python3"
  },
  "language_info": {
   "codemirror_mode": {
    "name": "ipython",
    "version": 3
   },
   "file_extension": ".py",
   "mimetype": "text/x-python",
   "name": "python",
   "nbconvert_exporter": "python",
   "pygments_lexer": "ipython3",
   "version": "3.7.4"
  }
 },
 "nbformat": 4,
 "nbformat_minor": 4
}
